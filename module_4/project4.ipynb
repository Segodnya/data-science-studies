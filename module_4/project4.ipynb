{
 "cells": [
  {
   "cell_type": "markdown",
   "metadata": {},
   "source": [
    "# Авиарейсы без потерь\n",
    "\n",
    "В первый рабочий день новый начальник сообщает, что я — единственный аналитик филиала (а может, и всей Анапы). Мне торжественно вручили пропуск от личного кабинета и звание ведущего аналитика. И хоть мой офис больше похож на кладовку для швабр и в нём нет отопления, я чувствовал себя как большая шишка.\n",
    "\n",
    "Я узнал, что компания переживает не лучшие времена каждую зиму: не все рейсы из Анапы окупаются в «низкий сезон». При этом есть направления, которые потенциально могут быть прибыльными, но у компании не хватает самолетов для их запуска. И моей первой задачей в новой должности стала помощь в поиске самых малоприбыльных рейсов."
   ]
  },
  {
   "cell_type": "markdown",
   "metadata": {},
   "source": [
    "## Цель проекта -\n",
    "\n",
    "Региональное руководство не принимает решений об отмене рейсов, а только передаёт информацию о невыгодных перелетах в центральный филиал. Однако данных в компании накопилось столько, что никто не может вытащить из базы нужную информацию. Необходимо разобраться с базой и достать из неё нужные данные. А выводы затем предстоит представить перед высшим руководством."
   ]
  },
  {
   "cell_type": "markdown",
   "metadata": {},
   "source": [
    "## Задачи проекта -¶\n",
    "\n",
    "1. Применить все базовые операторы SQL.\n",
    "2. Поработать с базой данных, соединением и объединением таблиц.\n",
    "3. Научиться самостоятельно подбирать данные для аналитической задачи.\n",
    "4. Провести EDA по полученным данным.\n",
    "5. Подготовить финансовую модель прибыльности авиарейсов.\n",
    "6. Оформить итоговый доклад презентацией."
   ]
  },
  {
   "cell_type": "code",
   "execution_count": 1,
   "metadata": {},
   "outputs": [],
   "source": [
    "import pandas as pd\n",
    "import matplotlib.pyplot as plt\n",
    "import seaborn as sns\n",
    "from scipy.stats import ttest_ind\n",
    "from itertools import combinations\n",
    "\n",
    "# pd.set_option('display.max_rows', 50)  # показывать больше строк\n",
    "# pd.set_option('display.max_columns', 50)  # показывать больше колонок\n",
    "\n",
    "data = pd.read_csv('query.csv')"
   ]
  },
  {
   "cell_type": "code",
   "execution_count": 2,
   "metadata": {},
   "outputs": [],
   "source": [
    "# строит столбчатые гистограммы\n",
    "# с названием столбца в заголовке\n",
    "# количество баров - количество уникальных значений в столбце\n",
    "def bar_plot(column, data=data):\n",
    "    data[column].plot(kind='hist', grid=True, title=str(\n",
    "        column), bins=data[column].nunique())\n",
    "\n",
    "\n",
    "# определим функцию для быстрого построения боксплотов по всему датасету\n",
    "def get_boxplot(column1, column2, data=data):\n",
    "    fig, ax = plt.subplots(figsize=(14, 4))\n",
    "    sns.boxplot(x=column1, y=column2, data=data, ax=ax)\n",
    "    plt.xticks(rotation=45)\n",
    "    ax.set_title('Boxplot for ' + column2)\n",
    "    plt.show()"
   ]
  },
  {
   "cell_type": "code",
   "execution_count": 3,
   "metadata": {},
   "outputs": [
    {
     "data": {
      "text/html": [
       "<div>\n",
       "<style scoped>\n",
       "    .dataframe tbody tr th:only-of-type {\n",
       "        vertical-align: middle;\n",
       "    }\n",
       "\n",
       "    .dataframe tbody tr th {\n",
       "        vertical-align: top;\n",
       "    }\n",
       "\n",
       "    .dataframe thead th {\n",
       "        text-align: right;\n",
       "    }\n",
       "</style>\n",
       "<table border=\"1\" class=\"dataframe\">\n",
       "  <thead>\n",
       "    <tr style=\"text-align: right;\">\n",
       "      <th></th>\n",
       "      <th>flight_id</th>\n",
       "      <th>s_dep</th>\n",
       "      <th>flight_month</th>\n",
       "      <th>flight_dom</th>\n",
       "      <th>flight_dow</th>\n",
       "      <th>s_arr</th>\n",
       "      <th>city_arr</th>\n",
       "      <th>model</th>\n",
       "      <th>fuel_consum_per_h</th>\n",
       "      <th>a_dep</th>\n",
       "      <th>...</th>\n",
       "      <th>seats_bus</th>\n",
       "      <th>total_seats_sold</th>\n",
       "      <th>revenue_eco</th>\n",
       "      <th>revenue_bus</th>\n",
       "      <th>revenue_total</th>\n",
       "      <th>flight_profit</th>\n",
       "      <th>flight_margin</th>\n",
       "      <th>profit_per_hour</th>\n",
       "      <th>profit_per_seat</th>\n",
       "      <th>profit_per_passenger</th>\n",
       "    </tr>\n",
       "  </thead>\n",
       "  <tbody>\n",
       "    <tr>\n",
       "      <th>0</th>\n",
       "      <td>136698</td>\n",
       "      <td>2016-12-01T09:25:00Z</td>\n",
       "      <td>12.0</td>\n",
       "      <td>1.0</td>\n",
       "      <td>4.0</td>\n",
       "      <td>2016-12-01T10:15:00Z</td>\n",
       "      <td>Belgorod</td>\n",
       "      <td>Sukhoi Superjet-100</td>\n",
       "      <td>1700</td>\n",
       "      <td>2016-12-01T09:30:00Z</td>\n",
       "      <td>...</td>\n",
       "      <td>12</td>\n",
       "      <td>94</td>\n",
       "      <td>519600.0</td>\n",
       "      <td>226800.0</td>\n",
       "      <td>746400.0</td>\n",
       "      <td>5.070308e+05</td>\n",
       "      <td>0.679302</td>\n",
       "      <td>620854.081633</td>\n",
       "      <td>5227.121993</td>\n",
       "      <td>5393.945035</td>\n",
       "    </tr>\n",
       "    <tr>\n",
       "      <th>1</th>\n",
       "      <td>136187</td>\n",
       "      <td>2016-12-01T10:05:00Z</td>\n",
       "      <td>12.0</td>\n",
       "      <td>1.0</td>\n",
       "      <td>4.0</td>\n",
       "      <td>2016-12-01T11:45:00Z</td>\n",
       "      <td>Moscow</td>\n",
       "      <td>Boeing 737-300</td>\n",
       "      <td>2400</td>\n",
       "      <td>2016-12-01T10:09:00Z</td>\n",
       "      <td>...</td>\n",
       "      <td>12</td>\n",
       "      <td>129</td>\n",
       "      <td>1434600.0</td>\n",
       "      <td>439200.0</td>\n",
       "      <td>1873800.0</td>\n",
       "      <td>1.424125e+06</td>\n",
       "      <td>0.760020</td>\n",
       "      <td>854475.000000</td>\n",
       "      <td>10954.807692</td>\n",
       "      <td>11039.728682</td>\n",
       "    </tr>\n",
       "    <tr>\n",
       "      <th>2</th>\n",
       "      <td>136774</td>\n",
       "      <td>2016-12-02T09:25:00Z</td>\n",
       "      <td>12.0</td>\n",
       "      <td>2.0</td>\n",
       "      <td>5.0</td>\n",
       "      <td>2016-12-02T10:15:00Z</td>\n",
       "      <td>Belgorod</td>\n",
       "      <td>Sukhoi Superjet-100</td>\n",
       "      <td>1700</td>\n",
       "      <td>2016-12-02T09:27:00Z</td>\n",
       "      <td>...</td>\n",
       "      <td>12</td>\n",
       "      <td>93</td>\n",
       "      <td>513300.0</td>\n",
       "      <td>226800.0</td>\n",
       "      <td>740100.0</td>\n",
       "      <td>5.001792e+05</td>\n",
       "      <td>0.675826</td>\n",
       "      <td>600215.000000</td>\n",
       "      <td>5156.486254</td>\n",
       "      <td>5378.270609</td>\n",
       "    </tr>\n",
       "    <tr>\n",
       "      <th>3</th>\n",
       "      <td>136474</td>\n",
       "      <td>2016-12-02T10:05:00Z</td>\n",
       "      <td>12.0</td>\n",
       "      <td>2.0</td>\n",
       "      <td>5.0</td>\n",
       "      <td>2016-12-02T11:45:00Z</td>\n",
       "      <td>Moscow</td>\n",
       "      <td>Boeing 737-300</td>\n",
       "      <td>2400</td>\n",
       "      <td>2016-12-02T10:06:00Z</td>\n",
       "      <td>...</td>\n",
       "      <td>12</td>\n",
       "      <td>130</td>\n",
       "      <td>1446800.0</td>\n",
       "      <td>439200.0</td>\n",
       "      <td>1886000.0</td>\n",
       "      <td>1.438840e+06</td>\n",
       "      <td>0.762906</td>\n",
       "      <td>880922.448980</td>\n",
       "      <td>11068.000000</td>\n",
       "      <td>11068.000000</td>\n",
       "    </tr>\n",
       "    <tr>\n",
       "      <th>4</th>\n",
       "      <td>136873</td>\n",
       "      <td>2016-12-03T09:25:00Z</td>\n",
       "      <td>12.0</td>\n",
       "      <td>3.0</td>\n",
       "      <td>6.0</td>\n",
       "      <td>2016-12-03T10:15:00Z</td>\n",
       "      <td>Belgorod</td>\n",
       "      <td>Sukhoi Superjet-100</td>\n",
       "      <td>1700</td>\n",
       "      <td>2016-12-03T09:26:00Z</td>\n",
       "      <td>...</td>\n",
       "      <td>12</td>\n",
       "      <td>96</td>\n",
       "      <td>532200.0</td>\n",
       "      <td>226800.0</td>\n",
       "      <td>759000.0</td>\n",
       "      <td>5.164275e+05</td>\n",
       "      <td>0.680405</td>\n",
       "      <td>607561.764706</td>\n",
       "      <td>5323.994845</td>\n",
       "      <td>5379.453125</td>\n",
       "    </tr>\n",
       "  </tbody>\n",
       "</table>\n",
       "<p>5 rows × 30 columns</p>\n",
       "</div>"
      ],
      "text/plain": [
       "   flight_id                 s_dep  flight_month  flight_dom  flight_dow  \\\n",
       "0     136698  2016-12-01T09:25:00Z          12.0         1.0         4.0   \n",
       "1     136187  2016-12-01T10:05:00Z          12.0         1.0         4.0   \n",
       "2     136774  2016-12-02T09:25:00Z          12.0         2.0         5.0   \n",
       "3     136474  2016-12-02T10:05:00Z          12.0         2.0         5.0   \n",
       "4     136873  2016-12-03T09:25:00Z          12.0         3.0         6.0   \n",
       "\n",
       "                  s_arr  city_arr                model  fuel_consum_per_h  \\\n",
       "0  2016-12-01T10:15:00Z  Belgorod  Sukhoi Superjet-100               1700   \n",
       "1  2016-12-01T11:45:00Z    Moscow       Boeing 737-300               2400   \n",
       "2  2016-12-02T10:15:00Z  Belgorod  Sukhoi Superjet-100               1700   \n",
       "3  2016-12-02T11:45:00Z    Moscow       Boeing 737-300               2400   \n",
       "4  2016-12-03T10:15:00Z  Belgorod  Sukhoi Superjet-100               1700   \n",
       "\n",
       "                  a_dep  ... seats_bus  total_seats_sold  revenue_eco  \\\n",
       "0  2016-12-01T09:30:00Z  ...        12                94     519600.0   \n",
       "1  2016-12-01T10:09:00Z  ...        12               129    1434600.0   \n",
       "2  2016-12-02T09:27:00Z  ...        12                93     513300.0   \n",
       "3  2016-12-02T10:06:00Z  ...        12               130    1446800.0   \n",
       "4  2016-12-03T09:26:00Z  ...        12                96     532200.0   \n",
       "\n",
       "   revenue_bus  revenue_total  flight_profit  flight_margin  profit_per_hour  \\\n",
       "0     226800.0       746400.0   5.070308e+05       0.679302    620854.081633   \n",
       "1     439200.0      1873800.0   1.424125e+06       0.760020    854475.000000   \n",
       "2     226800.0       740100.0   5.001792e+05       0.675826    600215.000000   \n",
       "3     439200.0      1886000.0   1.438840e+06       0.762906    880922.448980   \n",
       "4     226800.0       759000.0   5.164275e+05       0.680405    607561.764706   \n",
       "\n",
       "   profit_per_seat  profit_per_passenger  \n",
       "0      5227.121993           5393.945035  \n",
       "1     10954.807692          11039.728682  \n",
       "2      5156.486254           5378.270609  \n",
       "3     11068.000000          11068.000000  \n",
       "4      5323.994845           5379.453125  \n",
       "\n",
       "[5 rows x 30 columns]"
      ]
     },
     "execution_count": 3,
     "metadata": {},
     "output_type": "execute_result"
    }
   ],
   "source": [
    "# осмотрим набор данных\n",
    "data.head()"
   ]
  },
  {
   "cell_type": "markdown",
   "metadata": {},
   "source": [
    "> Из условия задачи:  \n",
    "> Ваш датасет должен обязательно включать id рейса и города вылета (Анапа) и прилета. Он также может включать такие данные, как модель самолёта и его характеристики, суммарную стоимость всех билетов на рейсе, затраченное время в полёте и прочее — на ваше усмотрение.\n",
    "\n",
    "Поскольку все рейсы осуществляются из одного аэропорта г. Анапы, в датасете, который применяется в EDA, отсутствует столбец с аэропортом/городом вылета - данные столбцы содержат по одному единственному уникальному значению."
   ]
  },
  {
   "cell_type": "code",
   "execution_count": 4,
   "metadata": {},
   "outputs": [
    {
     "name": "stdout",
     "output_type": "stream",
     "text": [
      "<class 'pandas.core.frame.DataFrame'>\n",
      "RangeIndex: 193 entries, 0 to 192\n",
      "Data columns (total 30 columns):\n",
      " #   Column                Non-Null Count  Dtype  \n",
      "---  ------                --------------  -----  \n",
      " 0   flight_id             193 non-null    int64  \n",
      " 1   s_dep                 193 non-null    object \n",
      " 2   flight_month          193 non-null    float64\n",
      " 3   flight_dom            193 non-null    float64\n",
      " 4   flight_dow            193 non-null    float64\n",
      " 5   s_arr                 193 non-null    object \n",
      " 6   city_arr              193 non-null    object \n",
      " 7   model                 193 non-null    object \n",
      " 8   fuel_consum_per_h     193 non-null    int64  \n",
      " 9   a_dep                 193 non-null    object \n",
      " 10  a_arr                 193 non-null    object \n",
      " 11  delay_dep_mins        193 non-null    float64\n",
      " 12  delay_arr_mins        193 non-null    float64\n",
      " 13  flight_time_h         193 non-null    float64\n",
      " 14  fuel_cost             193 non-null    float64\n",
      " 15  lease_pay             193 non-null    int64  \n",
      " 16  salary                193 non-null    float64\n",
      " 17  food_cost             193 non-null    int64  \n",
      " 18  total_seats           193 non-null    int64  \n",
      " 19  seats_eco             193 non-null    int64  \n",
      " 20  seats_bus             193 non-null    int64  \n",
      " 21  total_seats_sold      193 non-null    int64  \n",
      " 22  revenue_eco           193 non-null    float64\n",
      " 23  revenue_bus           193 non-null    float64\n",
      " 24  revenue_total         193 non-null    float64\n",
      " 25  flight_profit         193 non-null    float64\n",
      " 26  flight_margin         193 non-null    float64\n",
      " 27  profit_per_hour       193 non-null    float64\n",
      " 28  profit_per_seat       193 non-null    float64\n",
      " 29  profit_per_passenger  193 non-null    float64\n",
      "dtypes: float64(16), int64(8), object(6)\n",
      "memory usage: 45.4+ KB\n"
     ]
    }
   ],
   "source": [
    "# изучим, какие данные (и какого типа эти данные) входят в датасет\n",
    "data.info()"
   ]
  },
  {
   "cell_type": "markdown",
   "metadata": {},
   "source": [
    "В наборе данных - информация о 193 рейсах, совершенных из аэропорта Анапы."
   ]
  },
  {
   "cell_type": "markdown",
   "metadata": {},
   "source": [
    "## Переменные\n",
    "\n",
    "1. flight_id - номер рейса в базе;\n",
    "2. s_dep - плановая дата и время вылета;\n",
    "3. flight_month - месяц из плановой даты вылета;\n",
    "4. flight_dom - день месяца из плановой даты вылета;\n",
    "5. flight_dow - день недели из плановой даты вылета;\n",
    "6. s_arr - плановая дата и время прилета в пункт назначения;\n",
    "7. city_arr - пункт назначения (город);\n",
    "8. model - модель самолета;\n",
    "9. fuel_consum_per_h - расход топлива в час для модели самолета;\n",
    "10. a_dep - реальная дата и время вылета;\n",
    "11. a_arr - реальная дата и время прилета;\n",
    "12. delay_dep_mins - задержка вылета (минуты);\n",
    "13. delay_arr_mins - задержка прилета (минуты);\n",
    "14. flight_time_h - время полета (час);\n",
    "15. fuel_cost - стоимость топлива, затраченного на рейс;\n",
    "16. lease_pay - лизинговые платежи в пересчете на один рейс;\n",
    "17. salary - зарплата бортового состава в пересчете на один рейс;\n",
    "18. food_cost - стоимость питания для пассажиров рейса;\n",
    "19. total_seats - общее число мест в самолете;\n",
    "20. seats_eco - число мест в эконом-классе;\n",
    "21. seats_bus - число мест в бизнес-классе;\n",
    "22. total_seats_sold - общее количество проданных билетов на рейс;\n",
    "23. revenue_eco - выручка рейса с пассажиров эконом-класса;\n",
    "24. revenue_bus - выручка рейса с пассажиров бизнес-класса;\n",
    "25. revenue_total - выручка рейса;\n",
    "26. flight_profit - прибыль рейса (выручка за вычетом расходов);\n",
    "27. flight_margin - рентабельность рейса (отношение прибыли к выручке);\n",
    "28. profit_per_hour - прибыль в пересчете на 1 час полета;\n",
    "39. profit_per_seat - прибыль в пересчете на 1 посадочное место;\n",
    "30. profit_per_passenger - прибыль в пересчете на 1 пассажира."
   ]
  },
  {
   "cell_type": "code",
   "execution_count": 5,
   "metadata": {},
   "outputs": [
    {
     "name": "stdout",
     "output_type": "stream",
     "text": [
      "<class 'pandas.core.frame.DataFrame'>\n",
      "RangeIndex: 193 entries, 0 to 192\n",
      "Data columns (total 33 columns):\n",
      " #   Column                Non-Null Count  Dtype  \n",
      "---  ------                --------------  -----  \n",
      " 0   flight_id             193 non-null    int64  \n",
      " 1   s_dep                 193 non-null    object \n",
      " 2   flight_month          193 non-null    float64\n",
      " 3   flight_dom            193 non-null    float64\n",
      " 4   flight_dow            193 non-null    float64\n",
      " 5   s_arr                 193 non-null    object \n",
      " 6   city_arr              193 non-null    object \n",
      " 7   model                 193 non-null    object \n",
      " 8   fuel_consum_per_h     193 non-null    int64  \n",
      " 9   a_dep                 193 non-null    object \n",
      " 10  a_arr                 193 non-null    object \n",
      " 11  delay_dep_mins        193 non-null    float64\n",
      " 12  delay_arr_mins        193 non-null    float64\n",
      " 13  flight_time_h         193 non-null    float64\n",
      " 14  fuel_cost             193 non-null    float64\n",
      " 15  lease_pay             193 non-null    int64  \n",
      " 16  salary                193 non-null    float64\n",
      " 17  food_cost             193 non-null    int64  \n",
      " 18  total_seats           193 non-null    int64  \n",
      " 19  seats_eco             193 non-null    int64  \n",
      " 20  seats_bus             193 non-null    int64  \n",
      " 21  total_seats_sold      193 non-null    int64  \n",
      " 22  revenue_eco           193 non-null    float64\n",
      " 23  revenue_bus           193 non-null    float64\n",
      " 24  revenue_total         193 non-null    float64\n",
      " 25  flight_profit         193 non-null    float64\n",
      " 26  flight_margin         193 non-null    float64\n",
      " 27  profit_per_hour       193 non-null    float64\n",
      " 28  profit_per_seat       193 non-null    float64\n",
      " 29  profit_per_passenger  193 non-null    float64\n",
      " 30  revenue_eco_p         180 non-null    float64\n",
      " 31  revenue_bus_p         180 non-null    float64\n",
      " 32  seats_sold_percent    193 non-null    float64\n",
      "dtypes: float64(19), int64(8), object(6)\n",
      "memory usage: 49.9+ KB\n"
     ]
    }
   ],
   "source": [
    "# добавим переменные, характеризующие заполняемость салона самолета:\n",
    "data['revenue_eco_p'] = data['revenue_eco'] / data['revenue_total']\n",
    "data['revenue_bus_p'] = data['revenue_bus'] / data['revenue_total']\n",
    "data['seats_sold_percent'] = data['total_seats_sold'] / data['total_seats']\n",
    "\n",
    "# check\n",
    "data.info()"
   ]
  },
  {
   "cell_type": "markdown",
   "metadata": {},
   "source": [
    "## s_dep - плановая дата и время вылета\n",
    "\n",
    "В датасете - рейсы за зимний сезон (с 1 декабря 2016 года по 28 февраля 2017 года). По условию задачи предлагалось взять рейсы за декабрь 2017 года вместо 2016 года, но таковых в предложенной для анализа базе данных не оказалось. Тема поднималась для обсуждения в Slack."
   ]
  },
  {
   "cell_type": "code",
   "execution_count": 6,
   "metadata": {},
   "outputs": [
    {
     "data": {
      "text/plain": [
       "'2016-12-01T09:25:00Z'"
      ]
     },
     "metadata": {},
     "output_type": "display_data"
    },
    {
     "data": {
      "text/plain": [
       "'2017-02-28T10:05:00Z'"
      ]
     },
     "metadata": {},
     "output_type": "display_data"
    }
   ],
   "source": [
    "display(data.s_dep.min())\n",
    "display(data.s_dep.max())"
   ]
  },
  {
   "cell_type": "markdown",
   "metadata": {},
   "source": [
    "## flight_month - месяц из плановой даты вылета\n",
    "\n",
    "Рейсы равномерно распределены по месяцам. В феврале на три календарных дня меньше - количество рейсов меньше на 6 и 7 соответственно по сравнению с декабрем и январем."
   ]
  },
  {
   "cell_type": "code",
   "execution_count": 7,
   "metadata": {},
   "outputs": [
    {
     "data": {
      "text/plain": [
       "1.0     67\n",
       "12.0    66\n",
       "2.0     60\n",
       "Name: flight_month, dtype: int64"
      ]
     },
     "execution_count": 7,
     "metadata": {},
     "output_type": "execute_result"
    }
   ],
   "source": [
    "data.flight_month.value_counts()"
   ]
  },
  {
   "cell_type": "markdown",
   "metadata": {},
   "source": [
    "## flight_dom - день месяца из плановой даты вылета\n",
    "\n",
    "Рейсы регулярные и равномерно распределены по всему календарному месяцу."
   ]
  },
  {
   "cell_type": "code",
   "execution_count": 8,
   "metadata": {},
   "outputs": [
    {
     "data": {
      "text/plain": [
       "6.0     7\n",
       "21.0    7\n",
       "14.0    7\n",
       "10.0    7\n",
       "17.0    7\n",
       "7.0     7\n",
       "20.0    7\n",
       "13.0    7\n",
       "24.0    7\n",
       "3.0     7\n",
       "27.0    7\n",
       "28.0    7\n",
       "5.0     6\n",
       "11.0    6\n",
       "4.0     6\n",
       "8.0     6\n",
       "9.0     6\n",
       "2.0     6\n",
       "16.0    6\n",
       "1.0     6\n",
       "12.0    6\n",
       "15.0    6\n",
       "18.0    6\n",
       "19.0    6\n",
       "22.0    6\n",
       "23.0    6\n",
       "25.0    6\n",
       "26.0    6\n",
       "31.0    5\n",
       "30.0    4\n",
       "29.0    4\n",
       "Name: flight_dom, dtype: int64"
      ]
     },
     "execution_count": 8,
     "metadata": {},
     "output_type": "execute_result"
    }
   ],
   "source": [
    "data.flight_dom.value_counts()"
   ]
  },
  {
   "cell_type": "code",
   "execution_count": 9,
   "metadata": {},
   "outputs": [
    {
     "data": {
      "image/png": "[encoded data removed]",
      "text/plain": [
       "<Figure size 432x288 with 1 Axes>"
      ]
     },
     "metadata": {
      "needs_background": "light"
     },
     "output_type": "display_data"
    }
   ],
   "source": [
    "bar_plot('flight_dom')"
   ]
  },
  {
   "cell_type": "markdown",
   "metadata": {},
   "source": [
    "## flight_dow - день недели из плановой даты вылета\n",
    "\n",
    "Распределение по дням недели хоть и равномерно (как и распределением по дням месяца), но выделяется вторник - количетсо рейсов в этот день на 13 больше, чем в остальные дни."
   ]
  },
  {
   "cell_type": "code",
   "execution_count": 10,
   "metadata": {},
   "outputs": [
    {
     "data": {
      "text/plain": [
       "2.0    39\n",
       "1.0    26\n",
       "0.0    26\n",
       "6.0    26\n",
       "5.0    26\n",
       "4.0    26\n",
       "3.0    24\n",
       "Name: flight_dow, dtype: int64"
      ]
     },
     "execution_count": 10,
     "metadata": {},
     "output_type": "execute_result"
    }
   ],
   "source": [
    "data.flight_dow.value_counts()"
   ]
  },
  {
   "cell_type": "code",
   "execution_count": 11,
   "metadata": {},
   "outputs": [
    {
     "data": {
      "image/png": "[encoded data removed]",
      "text/plain": [
       "<Figure size 432x288 with 1 Axes>"
      ]
     },
     "metadata": {
      "needs_background": "light"
     },
     "output_type": "display_data"
    }
   ],
   "source": [
    "bar_plot('flight_dow')"
   ]
  },
  {
   "cell_type": "markdown",
   "metadata": {},
   "source": [
    "## city_arr - пункт назначения (город)\n",
    "\n",
    "Из количество рейсов в разрезе городов делаем вывод: рейсы из Анапы в Москву и Белгород осуществляются ежедневно, рейс в Новокузнецк - еженедельно."
   ]
  },
  {
   "cell_type": "code",
   "execution_count": 12,
   "metadata": {},
   "outputs": [
    {
     "data": {
      "text/plain": [
       "Moscow          90\n",
       "Belgorod        90\n",
       "Novokuznetsk    13\n",
       "Name: city_arr, dtype: int64"
      ]
     },
     "execution_count": 12,
     "metadata": {},
     "output_type": "execute_result"
    }
   ],
   "source": [
    "data.city_arr.value_counts()"
   ]
  },
  {
   "cell_type": "markdown",
   "metadata": {},
   "source": [
    "## model - модель самолета\n",
    "\n",
    "Рейсы из Анапы за анализируемый период осуществлются на двух моделях самолетов - Boeing 737-300, Sukhoi Superjet-100. При этом \"Боинг\" используется на рейсах до Москвы и Новокузнецка, \"Сухой\" - на рейсах до Белгорода."
   ]
  },
  {
   "cell_type": "code",
   "execution_count": 13,
   "metadata": {},
   "outputs": [
    {
     "data": {
      "text/plain": [
       "Boeing 737-300         103\n",
       "Sukhoi Superjet-100     90\n",
       "Name: model, dtype: int64"
      ]
     },
     "execution_count": 13,
     "metadata": {},
     "output_type": "execute_result"
    }
   ],
   "source": [
    "data.model.value_counts()"
   ]
  },
  {
   "cell_type": "markdown",
   "metadata": {},
   "source": [
    "## fuel_consum_per_h - расход топлива в час для модели самолета\n",
    "\n",
    "Самолеты заправляются реактивным топливом. Оно везде одинаковое. Во всем мире называется JET-A. В России ТС-1 или РТ (Реактивное Топливо). Стоимость расчета полета каждого рейса во всем мире делается делается компаниями SITA (https://www.sita.aero) и JEPPESSEN (https://ww2.jeppesen.com). Возможно есть и другие, но упомянуты не были. Стоимость расчета каждого отдельного рейса обходится А/К в 10$ (не учтено в модели).\n",
    "\n",
    "Если самолет вылетает из точки А в точку Б. При этом в точке Б стоимость тонны топлива сильно дороже (в 1.5-2 раза) чем в точке А. В этом случае в самолет может быть погружено топливо на обратную дорогу и залито в точке Б (в настоящей модели используется допущение, что самолеты заправляются в Анапе - аэропорту вылета).\n",
    "\n",
    "У каждого судна есть свой Среднечасовой Расход Топлива.\n",
    "\n",
    "В реальной авиации также используются следующие показатели для расчета прибыльности вылетов, но в имеющейся модели не были использованы в силу необходимости привлекать экспертов и сведения, которые отсутствовали в предложенной для анализа базе данных:\n",
    "* DOW - Dry Open Weight - Вес судна без пассажиров и багажа (кг)\n",
    "* PLD - Pay Load - вес пассажиров с багажом (кг)\n",
    "* ETOW - Estimated Takeover Weight - расчетный взлетный вес (кг)\n",
    "* ELDW - Estimated Landing Weight - расчетный вес при посадке (с учетом расходованного топлива)\n",
    "* Total Reserves - Резерв топлива сверх полетного (на полтора часа кружения, если нужно будет уйти на второй круг и ждать очереди на посадку)\n",
    "* Fuel on Board - топливо всего\n",
    "\n",
    "О времени полетов из Анапы:\n",
    "       до Москвы - 2ч, https://www.aborigen-tour.ru/book/russia/anapa/how-to-fly-to-anapa-from-moscow.php\n",
    "       до Белгорода - 1ч, https://www.aborigen-tour.ru/book/russia/anapa/how-to-fly-to-anapa-from-belgorod.php\n",
    "       до Новокузнецка - 5ч, https://www.aborigen-tour.ru/book/russia/anapa/how-to-fly-to-anapa-from-novokuznetsk.php\n",
    "\n",
    "       Время полетов нам понадобиться для оценки стоимости топлива на рейс\n",
    "       Возможно расчитать расход топлива и по расстоянию, но\n",
    "       расстояние можно ввести либо \"словарем\",\n",
    "       либо посчитать по тригонометрической формуле, что довольно трудоемкая задача;\n",
    "       формула для расчета - http://www.gps-forum.ru/forum/viewtopic.php?t=29539#p163274\n",
    "\n",
    "       (для трех направлений это еще допустимо;\n",
    "       при этом, в отличие от времени полета, у нас не будет дифференциации между рейсами)\n",
    "       \n",
    "О расходе топлива самолетов:\n",
    "       Sukhoi Superjet-100 = 1700 кг/ч\n",
    "       Boeing 737-300 = 2400 кг/ч\n",
    "       http://newsruss.ru/doc/index.php/Расход_топлива_у_самолётов"
   ]
  },
  {
   "cell_type": "markdown",
   "metadata": {},
   "source": [
    "## delay_dep_mins - задержка вылета (минуты)\n",
    "\n",
    "В целом, расписание вылетов соблюдается. Сраднее время задержки рейса при вылете - 3.5 минуты. Медиана - 3 минуты. 11 самолетов вылетели из Анапы ровно в назначенное время. Всего в 4 рейсах из 193 задержка вылета составила 10 минут и более. Максимальное опоздание - 42 минуты.\n",
    "\n",
    "Расписание соблюдалось более качественно в декабре, если говорить о месяцах; в субботу - если говорить о днях недели.\n",
    "\n",
    "Задержки при вылетах рейсов не оказывают влияния на прибыльность рейсов."
   ]
  },
  {
   "cell_type": "code",
   "execution_count": 14,
   "metadata": {},
   "outputs": [
    {
     "data": {
      "text/plain": [
       "count    193.000000\n",
       "mean       3.538860\n",
       "std        4.693723\n",
       "min        0.000000\n",
       "25%        2.000000\n",
       "50%        3.000000\n",
       "75%        4.000000\n",
       "max       42.000000\n",
       "Name: delay_dep_mins, dtype: float64"
      ]
     },
     "execution_count": 14,
     "metadata": {},
     "output_type": "execute_result"
    }
   ],
   "source": [
    "data.delay_dep_mins.describe()"
   ]
  },
  {
   "cell_type": "code",
   "execution_count": 15,
   "metadata": {},
   "outputs": [
    {
     "data": {
      "image/png": "[encoded data removed]",
      "text/plain": [
       "<Figure size 432x288 with 1 Axes>"
      ]
     },
     "metadata": {
      "needs_background": "light"
     },
     "output_type": "display_data"
    }
   ],
   "source": [
    "bar_plot('delay_dep_mins')"
   ]
  },
  {
   "cell_type": "code",
   "execution_count": 16,
   "metadata": {},
   "outputs": [
    {
     "data": {
      "text/plain": [
       "11"
      ]
     },
     "execution_count": 16,
     "metadata": {},
     "output_type": "execute_result"
    }
   ],
   "source": [
    "data['flight_id'][data.delay_dep_mins == 0].count()"
   ]
  },
  {
   "cell_type": "code",
   "execution_count": 17,
   "metadata": {},
   "outputs": [
    {
     "data": {
      "text/plain": [
       "4"
      ]
     },
     "execution_count": 17,
     "metadata": {},
     "output_type": "execute_result"
    }
   ],
   "source": [
    "data['flight_id'][data.delay_dep_mins > 10].count()"
   ]
  },
  {
   "cell_type": "code",
   "execution_count": 18,
   "metadata": {},
   "outputs": [
    {
     "data": {
      "image/png": "[encoded data removed]",
      "text/plain": [
       "<Figure size 1008x288 with 1 Axes>"
      ]
     },
     "metadata": {
      "needs_background": "light"
     },
     "output_type": "display_data"
    }
   ],
   "source": [
    "get_boxplot('flight_month', 'delay_dep_mins',\n",
    "            data=data[data['delay_dep_mins'] <= 10])"
   ]
  },
  {
   "cell_type": "code",
   "execution_count": 19,
   "metadata": {},
   "outputs": [
    {
     "data": {
      "image/png": "[encoded data removed]",
      "text/plain": [
       "<Figure size 1008x288 with 1 Axes>"
      ]
     },
     "metadata": {
      "needs_background": "light"
     },
     "output_type": "display_data"
    }
   ],
   "source": [
    "get_boxplot('flight_dom', 'delay_dep_mins',\n",
    "            data=data[data['delay_dep_mins'] <= 10])"
   ]
  },
  {
   "cell_type": "code",
   "execution_count": 20,
   "metadata": {},
   "outputs": [
    {
     "data": {
      "image/png": "[encoded data removed]",
      "text/plain": [
       "<Figure size 1008x288 with 1 Axes>"
      ]
     },
     "metadata": {
      "needs_background": "light"
     },
     "output_type": "display_data"
    }
   ],
   "source": [
    "get_boxplot('flight_dow', 'delay_dep_mins',\n",
    "            data=data[data['delay_dep_mins'] <= 10])"
   ]
  },
  {
   "cell_type": "code",
   "execution_count": 21,
   "metadata": {},
   "outputs": [
    {
     "data": {
      "text/plain": [
       "<seaborn.axisgrid.JointGrid at 0x7fd50872cca0>"
      ]
     },
     "execution_count": 21,
     "metadata": {},
     "output_type": "execute_result"
    },
    {
     "data": {
      "image/png": "[encoded data removed]",
      "text/plain": [
       "<Figure size 432x432 with 3 Axes>"
      ]
     },
     "metadata": {
      "needs_background": "light"
     },
     "output_type": "display_data"
    }
   ],
   "source": [
    "sns.jointplot(x='delay_dep_mins', y='flight_margin', data=data, kind='reg')"
   ]
  },
  {
   "cell_type": "code",
   "execution_count": 22,
   "metadata": {},
   "outputs": [
    {
     "data": {
      "text/html": [
       "<div>\n",
       "<style scoped>\n",
       "    .dataframe tbody tr th:only-of-type {\n",
       "        vertical-align: middle;\n",
       "    }\n",
       "\n",
       "    .dataframe tbody tr th {\n",
       "        vertical-align: top;\n",
       "    }\n",
       "\n",
       "    .dataframe thead th {\n",
       "        text-align: right;\n",
       "    }\n",
       "</style>\n",
       "<table border=\"1\" class=\"dataframe\">\n",
       "  <thead>\n",
       "    <tr style=\"text-align: right;\">\n",
       "      <th></th>\n",
       "      <th>delay_dep_mins</th>\n",
       "      <th>flight_margin</th>\n",
       "    </tr>\n",
       "  </thead>\n",
       "  <tbody>\n",
       "    <tr>\n",
       "      <th>delay_dep_mins</th>\n",
       "      <td>1.000000</td>\n",
       "      <td>-0.011342</td>\n",
       "    </tr>\n",
       "    <tr>\n",
       "      <th>flight_margin</th>\n",
       "      <td>-0.011342</td>\n",
       "      <td>1.000000</td>\n",
       "    </tr>\n",
       "  </tbody>\n",
       "</table>\n",
       "</div>"
      ],
      "text/plain": [
       "                delay_dep_mins  flight_margin\n",
       "delay_dep_mins        1.000000      -0.011342\n",
       "flight_margin        -0.011342       1.000000"
      ]
     },
     "execution_count": 22,
     "metadata": {},
     "output_type": "execute_result"
    }
   ],
   "source": [
    "data[['delay_dep_mins', 'flight_margin']].corr()"
   ]
  },
  {
   "cell_type": "markdown",
   "metadata": {},
   "source": [
    "## delay_arr_mins - задержка прилета (минуты)\n",
    "\n",
    "Как и задержки вылетов, задержки прилетов не оказывают влияния на прибыльность (рентабельность) рейсов."
   ]
  },
  {
   "cell_type": "code",
   "execution_count": 23,
   "metadata": {},
   "outputs": [
    {
     "data": {
      "text/plain": [
       "count    193.000000\n",
       "mean       3.585492\n",
       "std        4.863148\n",
       "min       -2.000000\n",
       "25%        2.000000\n",
       "50%        3.000000\n",
       "75%        4.000000\n",
       "max       42.000000\n",
       "Name: delay_arr_mins, dtype: float64"
      ]
     },
     "execution_count": 23,
     "metadata": {},
     "output_type": "execute_result"
    }
   ],
   "source": [
    "data.delay_arr_mins.describe()"
   ]
  },
  {
   "cell_type": "code",
   "execution_count": 24,
   "metadata": {},
   "outputs": [
    {
     "data": {
      "image/png": "[encoded data removed]",
      "text/plain": [
       "<Figure size 432x288 with 1 Axes>"
      ]
     },
     "metadata": {
      "needs_background": "light"
     },
     "output_type": "display_data"
    }
   ],
   "source": [
    "bar_plot('delay_arr_mins')"
   ]
  },
  {
   "cell_type": "code",
   "execution_count": 25,
   "metadata": {},
   "outputs": [
    {
     "data": {
      "text/html": [
       "<div>\n",
       "<style scoped>\n",
       "    .dataframe tbody tr th:only-of-type {\n",
       "        vertical-align: middle;\n",
       "    }\n",
       "\n",
       "    .dataframe tbody tr th {\n",
       "        vertical-align: top;\n",
       "    }\n",
       "\n",
       "    .dataframe thead th {\n",
       "        text-align: right;\n",
       "    }\n",
       "</style>\n",
       "<table border=\"1\" class=\"dataframe\">\n",
       "  <thead>\n",
       "    <tr style=\"text-align: right;\">\n",
       "      <th></th>\n",
       "      <th>delay_arr_mins</th>\n",
       "      <th>flight_margin</th>\n",
       "    </tr>\n",
       "  </thead>\n",
       "  <tbody>\n",
       "    <tr>\n",
       "      <th>delay_arr_mins</th>\n",
       "      <td>1.000000</td>\n",
       "      <td>-0.057124</td>\n",
       "    </tr>\n",
       "    <tr>\n",
       "      <th>flight_margin</th>\n",
       "      <td>-0.057124</td>\n",
       "      <td>1.000000</td>\n",
       "    </tr>\n",
       "  </tbody>\n",
       "</table>\n",
       "</div>"
      ],
      "text/plain": [
       "                delay_arr_mins  flight_margin\n",
       "delay_arr_mins        1.000000      -0.057124\n",
       "flight_margin        -0.057124       1.000000"
      ]
     },
     "execution_count": 25,
     "metadata": {},
     "output_type": "execute_result"
    }
   ],
   "source": [
    "data[['delay_arr_mins', 'flight_margin']].corr()"
   ]
  },
  {
   "cell_type": "markdown",
   "metadata": {},
   "source": [
    "## flight_time_h - время полета (час)\n",
    "\n",
    "Минимальное время полета - 0.82 часа (Анапа-Белгород), максимальное - 5.2 часа (Анапа-Новокузнецк).\n",
    "\n",
    "Продолжительности рейсов по трем направлениям в целом распределены нормально и варьируются в следующих диапазонах: Анапа-Белгород от 0.82 до 0.85 часа, Анапа-Москва от 1.63 до 1.72 часа, Анапа-Новокузнецк от 4.98 до 5.2 часа (много рейсов с продолжительностью, близкой к максимальной)."
   ]
  },
  {
   "cell_type": "code",
   "execution_count": 26,
   "metadata": {},
   "outputs": [
    {
     "data": {
      "text/plain": [
       "count    193.000000\n",
       "mean       1.508981\n",
       "std        1.047745\n",
       "min        0.816667\n",
       "25%        0.833333\n",
       "50%        1.650000\n",
       "75%        1.666667\n",
       "max        5.200000\n",
       "Name: flight_time_h, dtype: float64"
      ]
     },
     "execution_count": 26,
     "metadata": {},
     "output_type": "execute_result"
    }
   ],
   "source": [
    "data.flight_time_h.describe()"
   ]
  },
  {
   "cell_type": "code",
   "execution_count": 27,
   "metadata": {},
   "outputs": [
    {
     "data": {
      "text/html": [
       "<div>\n",
       "<style scoped>\n",
       "    .dataframe tbody tr th:only-of-type {\n",
       "        vertical-align: middle;\n",
       "    }\n",
       "\n",
       "    .dataframe tbody tr th {\n",
       "        vertical-align: top;\n",
       "    }\n",
       "\n",
       "    .dataframe thead tr th {\n",
       "        text-align: left;\n",
       "    }\n",
       "\n",
       "    .dataframe thead tr:last-of-type th {\n",
       "        text-align: right;\n",
       "    }\n",
       "</style>\n",
       "<table border=\"1\" class=\"dataframe\">\n",
       "  <thead>\n",
       "    <tr>\n",
       "      <th></th>\n",
       "      <th>min</th>\n",
       "      <th>max</th>\n",
       "      <th>median</th>\n",
       "      <th>mean</th>\n",
       "    </tr>\n",
       "    <tr>\n",
       "      <th></th>\n",
       "      <th>flight_time_h</th>\n",
       "      <th>flight_time_h</th>\n",
       "      <th>flight_time_h</th>\n",
       "      <th>flight_time_h</th>\n",
       "    </tr>\n",
       "    <tr>\n",
       "      <th>city_arr</th>\n",
       "      <th></th>\n",
       "      <th></th>\n",
       "      <th></th>\n",
       "      <th></th>\n",
       "    </tr>\n",
       "  </thead>\n",
       "  <tbody>\n",
       "    <tr>\n",
       "      <th>Belgorod</th>\n",
       "      <td>0.816667</td>\n",
       "      <td>0.850000</td>\n",
       "      <td>0.833333</td>\n",
       "      <td>0.833519</td>\n",
       "    </tr>\n",
       "    <tr>\n",
       "      <th>Moscow</th>\n",
       "      <td>1.633333</td>\n",
       "      <td>1.716667</td>\n",
       "      <td>1.666667</td>\n",
       "      <td>1.666111</td>\n",
       "    </tr>\n",
       "    <tr>\n",
       "      <th>Novokuznetsk</th>\n",
       "      <td>4.983333</td>\n",
       "      <td>5.200000</td>\n",
       "      <td>5.083333</td>\n",
       "      <td>5.097436</td>\n",
       "    </tr>\n",
       "  </tbody>\n",
       "</table>\n",
       "</div>"
      ],
      "text/plain": [
       "                       min           max        median          mean\n",
       "             flight_time_h flight_time_h flight_time_h flight_time_h\n",
       "city_arr                                                            \n",
       "Belgorod          0.816667      0.850000      0.833333      0.833519\n",
       "Moscow            1.633333      1.716667      1.666667      1.666111\n",
       "Novokuznetsk      4.983333      5.200000      5.083333      5.097436"
      ]
     },
     "execution_count": 27,
     "metadata": {},
     "output_type": "execute_result"
    }
   ],
   "source": [
    "flight_time_pivot = pd.pivot_table(data, values='flight_time_h', index=[\n",
    "                                   'city_arr'], aggfunc=['min', 'max', 'median', 'mean'])\n",
    "\n",
    "flight_time_pivot"
   ]
  },
  {
   "cell_type": "code",
   "execution_count": 28,
   "metadata": {},
   "outputs": [
    {
     "data": {
      "image/png": "[encoded data removed]",
      "text/plain": [
       "<Figure size 1008x288 with 1 Axes>"
      ]
     },
     "metadata": {
      "needs_background": "light"
     },
     "output_type": "display_data"
    }
   ],
   "source": [
    "get_boxplot('city_arr', 'flight_time_h')"
   ]
  },
  {
   "cell_type": "code",
   "execution_count": 29,
   "metadata": {},
   "outputs": [
    {
     "data": {
      "image/png": "[encoded data removed]",
      "text/plain": [
       "<Figure size 432x288 with 1 Axes>"
      ]
     },
     "metadata": {
      "needs_background": "light"
     },
     "output_type": "display_data"
    }
   ],
   "source": [
    "bar_plot('flight_time_h', data=data[data.city_arr == 'Moscow'])"
   ]
  },
  {
   "cell_type": "code",
   "execution_count": 30,
   "metadata": {},
   "outputs": [
    {
     "data": {
      "image/png": "[encoded data removed]",
      "text/plain": [
       "<Figure size 432x288 with 1 Axes>"
      ]
     },
     "metadata": {
      "needs_background": "light"
     },
     "output_type": "display_data"
    }
   ],
   "source": [
    "bar_plot('flight_time_h', data=data[data.city_arr == 'Belgorod'])"
   ]
  },
  {
   "cell_type": "code",
   "execution_count": 31,
   "metadata": {},
   "outputs": [
    {
     "data": {
      "image/png": "[encoded data removed]",
      "text/plain": [
       "<Figure size 432x288 with 1 Axes>"
      ]
     },
     "metadata": {
      "needs_background": "light"
     },
     "output_type": "display_data"
    }
   ],
   "source": [
    "bar_plot('flight_time_h', data=data[data.city_arr == 'Novokuznetsk'])"
   ]
  },
  {
   "cell_type": "markdown",
   "metadata": {},
   "source": [
    "## fuel_cost - стоимость топлива, затраченного на рейс\n",
    "\n",
    "В предложенной модели расход топлива зависит от двух переменных - модели самолета и его расхода топлива в соответствии с документамией (fuel_consum_per_h) и продолжительностью полета.\n",
    "\n",
    "Подробнее - см. раздел fuel_consum_per_h."
   ]
  },
  {
   "cell_type": "code",
   "execution_count": 32,
   "metadata": {},
   "outputs": [
    {
     "data": {
      "text/html": [
       "<div>\n",
       "<style scoped>\n",
       "    .dataframe tbody tr th:only-of-type {\n",
       "        vertical-align: middle;\n",
       "    }\n",
       "\n",
       "    .dataframe tbody tr th {\n",
       "        vertical-align: top;\n",
       "    }\n",
       "\n",
       "    .dataframe thead th {\n",
       "        text-align: right;\n",
       "    }\n",
       "</style>\n",
       "<table border=\"1\" class=\"dataframe\">\n",
       "  <thead>\n",
       "    <tr style=\"text-align: right;\">\n",
       "      <th></th>\n",
       "      <th>fuel_consum_per_h</th>\n",
       "      <th>flight_time_h</th>\n",
       "      <th>fuel_cost</th>\n",
       "    </tr>\n",
       "  </thead>\n",
       "  <tbody>\n",
       "    <tr>\n",
       "      <th>fuel_consum_per_h</th>\n",
       "      <td>1.000000</td>\n",
       "      <td>0.604194</td>\n",
       "      <td>0.668441</td>\n",
       "    </tr>\n",
       "    <tr>\n",
       "      <th>flight_time_h</th>\n",
       "      <td>0.604194</td>\n",
       "      <td>1.000000</td>\n",
       "      <td>0.995116</td>\n",
       "    </tr>\n",
       "    <tr>\n",
       "      <th>fuel_cost</th>\n",
       "      <td>0.668441</td>\n",
       "      <td>0.995116</td>\n",
       "      <td>1.000000</td>\n",
       "    </tr>\n",
       "  </tbody>\n",
       "</table>\n",
       "</div>"
      ],
      "text/plain": [
       "                   fuel_consum_per_h  flight_time_h  fuel_cost\n",
       "fuel_consum_per_h           1.000000       0.604194   0.668441\n",
       "flight_time_h               0.604194       1.000000   0.995116\n",
       "fuel_cost                   0.668441       0.995116   1.000000"
      ]
     },
     "execution_count": 32,
     "metadata": {},
     "output_type": "execute_result"
    }
   ],
   "source": [
    "fuel_data = data[['fuel_consum_per_h', 'flight_time_h', 'fuel_cost']]\n",
    "fuel_data.corr()"
   ]
  },
  {
   "cell_type": "code",
   "execution_count": 33,
   "metadata": {},
   "outputs": [
    {
     "data": {
      "text/plain": [
       "<seaborn.axisgrid.JointGrid at 0x7fd50856f820>"
      ]
     },
     "execution_count": 33,
     "metadata": {},
     "output_type": "execute_result"
    },
    {
     "data": {
      "image/png": "[encoded data removed]",
      "text/plain": [
       "<Figure size 432x432 with 3 Axes>"
      ]
     },
     "metadata": {
      "needs_background": "light"
     },
     "output_type": "display_data"
    }
   ],
   "source": [
    "sns.jointplot(x='flight_time_h', y='fuel_cost', data=data, kind='reg')"
   ]
  },
  {
   "cell_type": "markdown",
   "metadata": {},
   "source": [
    "## lease_pay - лизинговые платежи в пересчете на один рейс\n",
    "\n",
    "У большинства авиакомпаний авиапарк в лизинге (т.е. каждый месяц авиакомпания платит за аренду самолета лизинговой компании). Стоимость зависит от условий и типа судна. Для расчета в рамках нашей модели воспользуемся поиском информации в открытых источниках о недавних сделках по интересующим нас моделям самолетов.\n",
    "\n",
    "Боинг 737-300.\n",
    "Удалось найти информации о сделке на 50 самолетов и 18 лет в 5542 млрд. долл.\n",
    "Таким образом, можем найти \"среднесуточную\" плату за самолет ~ 1096000 руб./день.\n",
    "Методика: Сумма по договору лизинга / кол-во самолетов по договору / срок договора (лет) / 365 дней * курс долл.\n",
    "\n",
    "Дополнительно примем во внимание следующие допущения и скорректируем \"среднесуточную\" плату по лизингу на \"длительность эксплуатации\" самолета для совершения рейса:\n",
    "\t\t\t\t\t\t\tРейс до Москвы из Анапы 2ч + обслуживание самолета в аэропорту 2ч = 1/6 суток\n",
    "\t\t\t\t\t\t\t182500 руб./рейс\n",
    "\t\t\t\t\t\t\tРейс до Новокузнецка 5ч + обслуживание 3ч = 1/3 суток\n",
    "\t\t\t\t\t\t\t365300 руб./рейс\n",
    "                            \n",
    "Сухой СуперДжет-100.\n",
    "Аналогичным образом поступим и со второй моделью самолетов с учетом, что была найдена информация о сделке, в рамках которой каждый самолет отдается в лизинг авиакомпании сроком на 12 лет за 52 млн. долл. (или 772000 рублей/сутки):\n",
    "\t\t\t\t\t\t\tРейс до Белгорода 1ч + обслуживание 2ч = 1/8 суток\n",
    "\t\t\t\t\t\t\t96500 руб./рейс\n",
    "\n",
    "Курс 65 руб./долл. 19 октября 2019 (Сухой)\n",
    "Курс 32 руб./долл. 19 сентября 2013 (Боинг)\n",
    "* Информация о сделках из 2013 и 2019 годов - соответственно, курсы валют не сопоставимые. Учтем курс доллара в обоих случаях по 2019 году. Информация о курсах валют - сайт ЦБ РФ.\n",
    "\n",
    "Источники:\n",
    "https://www.interfax.ru/aeroflot/679393  \n",
    "https://www.interfax.ru/business/329949\n",
    "\n",
    "Расчеты - в запросе:  \n",
    "CASE  \n",
    "    WHEN (a.model = 'Boeing 737-300'  \n",
    "        AND arr_ap.city = 'Moscow') THEN 182500  \n",
    "    WHEN (a.model = 'Boeing 737-300'  \n",
    "        AND arr_ap.city = 'Novokuznetsk') THEN 365300  \n",
    "    ELSE 96500  \n",
    "END lease_pay"
   ]
  },
  {
   "cell_type": "code",
   "execution_count": 34,
   "metadata": {},
   "outputs": [
    {
     "data": {
      "text/html": [
       "<div>\n",
       "<style scoped>\n",
       "    .dataframe tbody tr th:only-of-type {\n",
       "        vertical-align: middle;\n",
       "    }\n",
       "\n",
       "    .dataframe tbody tr th {\n",
       "        vertical-align: top;\n",
       "    }\n",
       "\n",
       "    .dataframe thead tr th {\n",
       "        text-align: left;\n",
       "    }\n",
       "\n",
       "    .dataframe thead tr:last-of-type th {\n",
       "        text-align: right;\n",
       "    }\n",
       "</style>\n",
       "<table border=\"1\" class=\"dataframe\">\n",
       "  <thead>\n",
       "    <tr>\n",
       "      <th></th>\n",
       "      <th>mean</th>\n",
       "    </tr>\n",
       "    <tr>\n",
       "      <th></th>\n",
       "      <th>lease_pay</th>\n",
       "    </tr>\n",
       "    <tr>\n",
       "      <th>city_arr</th>\n",
       "      <th></th>\n",
       "    </tr>\n",
       "  </thead>\n",
       "  <tbody>\n",
       "    <tr>\n",
       "      <th>Belgorod</th>\n",
       "      <td>96500</td>\n",
       "    </tr>\n",
       "    <tr>\n",
       "      <th>Moscow</th>\n",
       "      <td>182500</td>\n",
       "    </tr>\n",
       "    <tr>\n",
       "      <th>Novokuznetsk</th>\n",
       "      <td>365300</td>\n",
       "    </tr>\n",
       "  </tbody>\n",
       "</table>\n",
       "</div>"
      ],
      "text/plain": [
       "                  mean\n",
       "             lease_pay\n",
       "city_arr              \n",
       "Belgorod         96500\n",
       "Moscow          182500\n",
       "Novokuznetsk    365300"
      ]
     },
     "execution_count": 34,
     "metadata": {},
     "output_type": "execute_result"
    }
   ],
   "source": [
    "lease_pay_per_flight = pd.pivot_table(data, values='lease_pay', index=[\n",
    "                                      'city_arr'], aggfunc=['mean'])\n",
    "\n",
    "lease_pay_per_flight"
   ]
  },
  {
   "cell_type": "code",
   "execution_count": 35,
   "metadata": {},
   "outputs": [
    {
     "data": {
      "text/plain": [
       "<seaborn.axisgrid.JointGrid at 0x7fd5085162e0>"
      ]
     },
     "execution_count": 35,
     "metadata": {},
     "output_type": "execute_result"
    },
    {
     "data": {
      "image/png": "[encoded data removed]",
      "text/plain": [
       "<Figure size 432x432 with 3 Axes>"
      ]
     },
     "metadata": {
      "needs_background": "light"
     },
     "output_type": "display_data"
    }
   ],
   "source": [
    "sns.jointplot(x='flight_time_h', y='lease_pay', data=data, kind='reg')"
   ]
  },
  {
   "cell_type": "markdown",
   "metadata": {},
   "source": [
    "## salary - зарплата бортового состава в пересчете на один рейс\n",
    "\n",
    "Пассажирские самолеты делятся на:\n",
    "* ближнемагистральные (до 2500-3000км), -- Анапа-Белгород, Анапа-Москва\n",
    "* среднемагистральные (от 3000-6000км) -- Анапа-Новокузнецк\n",
    "* и дальнемагистральные (>6000км).\n",
    "\n",
    "Бортпроводники на БМ и СМ: 4-6 человек. На ДМ: 7-12 человек.  \n",
    "Плюс командир, плюс второй пилот, плюс иногда борт-инженер (каждый получает зарплату).  \n",
    "Средняя зарплата бортпроводника 80-100 тыс.руб. Командира 350-500 тыс.руб.  \n",
    "Второго пилота 200-300 тыс.руб. Борт-инженера 200-300 тыс.руб.  \n",
    "Зарплаты учтем по нижней границе. На Москву и Белгород по 4 БП, Новокузнецк - 6 БП.\n",
    "\n",
    "Допущение: рабочий день экипажа - 8 часов. Рабочих дней в месяце = 20.  \n",
    "до Москвы 2ч + 2ч обслуживания = 1/2 рабочего дня;  \n",
    "до Белгорода 1ч + 2ч обслуживания = 3/8 рабочего дня;  \n",
    "до Новокузнецка 5ч + 3ч обслуживания = 1 рабочий день.\n",
    "\n",
    "Расчеты - в запросе:  \n",
    "CASE  \n",
    "WHEN arr_ap.city = 'Moscow' THEN 0.5*(4*80000+350000+200000+200000)/20  \n",
    "WHEN arr_ap.city = 'Belgorod' THEN 0.375*(4*80000+350000+200000+200000)/20  \n",
    "ELSE (6*80000+350000+200000+200000)/20  \n",
    "END AS salary"
   ]
  },
  {
   "cell_type": "code",
   "execution_count": 36,
   "metadata": {},
   "outputs": [
    {
     "data": {
      "text/html": [
       "<div>\n",
       "<style scoped>\n",
       "    .dataframe tbody tr th:only-of-type {\n",
       "        vertical-align: middle;\n",
       "    }\n",
       "\n",
       "    .dataframe tbody tr th {\n",
       "        vertical-align: top;\n",
       "    }\n",
       "\n",
       "    .dataframe thead tr th {\n",
       "        text-align: left;\n",
       "    }\n",
       "\n",
       "    .dataframe thead tr:last-of-type th {\n",
       "        text-align: right;\n",
       "    }\n",
       "</style>\n",
       "<table border=\"1\" class=\"dataframe\">\n",
       "  <thead>\n",
       "    <tr>\n",
       "      <th></th>\n",
       "      <th>mean</th>\n",
       "    </tr>\n",
       "    <tr>\n",
       "      <th></th>\n",
       "      <th>salary</th>\n",
       "    </tr>\n",
       "    <tr>\n",
       "      <th>city_arr</th>\n",
       "      <th></th>\n",
       "    </tr>\n",
       "  </thead>\n",
       "  <tbody>\n",
       "    <tr>\n",
       "      <th>Belgorod</th>\n",
       "      <td>20062.5</td>\n",
       "    </tr>\n",
       "    <tr>\n",
       "      <th>Moscow</th>\n",
       "      <td>26750.0</td>\n",
       "    </tr>\n",
       "    <tr>\n",
       "      <th>Novokuznetsk</th>\n",
       "      <td>61500.0</td>\n",
       "    </tr>\n",
       "  </tbody>\n",
       "</table>\n",
       "</div>"
      ],
      "text/plain": [
       "                 mean\n",
       "               salary\n",
       "city_arr             \n",
       "Belgorod      20062.5\n",
       "Moscow        26750.0\n",
       "Novokuznetsk  61500.0"
      ]
     },
     "execution_count": 36,
     "metadata": {},
     "output_type": "execute_result"
    }
   ],
   "source": [
    "salary_per_flight = pd.pivot_table(data, values='salary', index=[\n",
    "                                   'city_arr'], aggfunc=['mean'])\n",
    "\n",
    "salary_per_flight"
   ]
  },
  {
   "cell_type": "code",
   "execution_count": 37,
   "metadata": {},
   "outputs": [
    {
     "data": {
      "text/plain": [
       "<seaborn.axisgrid.JointGrid at 0x7fd518b1f820>"
      ]
     },
     "execution_count": 37,
     "metadata": {},
     "output_type": "execute_result"
    },
    {
     "data": {
      "image/png": "[encoded data removed]",
      "text/plain": [
       "<Figure size 432x432 with 3 Axes>"
      ]
     },
     "metadata": {
      "needs_background": "light"
     },
     "output_type": "display_data"
    }
   ],
   "source": [
    "sns.jointplot(x='flight_time_h', y='salary', data=data, kind='reg')"
   ]
  },
  {
   "cell_type": "markdown",
   "metadata": {},
   "source": [
    "## food_cost - стоимость питания для пассажиров рейса\n",
    "\n",
    "Бортовое питание загружается либо туда-обратно, либо только туда, если срок годности истекает после прилета (на комбинате бортпитания еда готовится сразу к употреблению и подвергается шоковой заморозке; затем погружается в самолет; в самолетах нет холодильных камер - поэтому срок годности к употреблению сокращенный). \n",
    "\n",
    "В некоторых случаях авиакомпании покупает бортпитание на обратную дорогу в аэропорту обратного вылета.\n",
    "\n",
    "В среднем, стоимость одного набора питания на пассажира 7-8 долларов для эконома, для бизнеса и первого класса 30-50 долларов.\n",
    "\n",
    "Расходы на бортовое питание (допущения, используемые в расчетной модели):  \n",
    "В среднем, стоимость одного набора питания на пассажира 7-8 долларов (525 рублей) для эконома,  \n",
    "для бизнеса и первого класса 30-50 долларов (2250 рублей).  \n",
    "\n",
    "Расчет для класса comfort не приводятся - в имеющихся на рассматриваемых рейсах самолетах билеты на такие места не продавались.\n",
    "\n",
    "На рейсе до Новокузнецка питание не предоставляется (тезнический рейс - особенности рейса по данному маршруту будут рассмотрены ниже - см. раздел tickets_sold and revenue).\n",
    "\n",
    "Расчеты - в запросе:  \n",
    "CASE  \n",
    "WHEN temp2.total_tickets_sold ISNULL THEN 0  \n",
    "ELSE (525*temp2.tickets_sold_eco)+(2250*temp2.tickets_cold_bus)  \n",
    "END AS food_cost"
   ]
  },
  {
   "cell_type": "code",
   "execution_count": 38,
   "metadata": {},
   "outputs": [
    {
     "data": {
      "text/html": [
       "<div>\n",
       "<style scoped>\n",
       "    .dataframe tbody tr th:only-of-type {\n",
       "        vertical-align: middle;\n",
       "    }\n",
       "\n",
       "    .dataframe tbody tr th {\n",
       "        vertical-align: top;\n",
       "    }\n",
       "\n",
       "    .dataframe thead tr th {\n",
       "        text-align: left;\n",
       "    }\n",
       "\n",
       "    .dataframe thead tr:last-of-type th {\n",
       "        text-align: right;\n",
       "    }\n",
       "</style>\n",
       "<table border=\"1\" class=\"dataframe\">\n",
       "  <thead>\n",
       "    <tr>\n",
       "      <th></th>\n",
       "      <th>mean</th>\n",
       "    </tr>\n",
       "    <tr>\n",
       "      <th></th>\n",
       "      <th>food_cost</th>\n",
       "    </tr>\n",
       "    <tr>\n",
       "      <th>city_arr</th>\n",
       "      <th></th>\n",
       "    </tr>\n",
       "  </thead>\n",
       "  <tbody>\n",
       "    <tr>\n",
       "      <th>Belgorod</th>\n",
       "      <td>66617.500000</td>\n",
       "    </tr>\n",
       "    <tr>\n",
       "      <th>Moscow</th>\n",
       "      <td>77709.166667</td>\n",
       "    </tr>\n",
       "    <tr>\n",
       "      <th>Novokuznetsk</th>\n",
       "      <td>0.000000</td>\n",
       "    </tr>\n",
       "  </tbody>\n",
       "</table>\n",
       "</div>"
      ],
      "text/plain": [
       "                      mean\n",
       "                 food_cost\n",
       "city_arr                  \n",
       "Belgorod      66617.500000\n",
       "Moscow        77709.166667\n",
       "Novokuznetsk      0.000000"
      ]
     },
     "execution_count": 38,
     "metadata": {},
     "output_type": "execute_result"
    }
   ],
   "source": [
    "food_cost_per_flight = pd.pivot_table(data, values='food_cost', index=[\n",
    "                                      'city_arr'], aggfunc=['mean'])\n",
    "\n",
    "food_cost_per_flight"
   ]
  },
  {
   "cell_type": "markdown",
   "metadata": {},
   "source": [
    "## costs_total"
   ]
  },
  {
   "cell_type": "code",
   "execution_count": 39,
   "metadata": {},
   "outputs": [
    {
     "data": {
      "text/plain": [
       "city_arr\n",
       "Belgorod        AxesSubplot(0.125,0.125;0.775x0.755)\n",
       "Moscow          AxesSubplot(0.125,0.125;0.775x0.755)\n",
       "Novokuznetsk    AxesSubplot(0.125,0.125;0.775x0.755)\n",
       "Name: costs_total, dtype: object"
      ]
     },
     "execution_count": 39,
     "metadata": {},
     "output_type": "execute_result"
    },
    {
     "data": {
      "image/png": "[encoded data removed]",
      "text/plain": [
       "<Figure size 864x864 with 1 Axes>"
      ]
     },
     "metadata": {
      "needs_background": "light"
     },
     "output_type": "display_data"
    }
   ],
   "source": [
    "data['costs_total'] = data['fuel_cost'] + data['lease_pay'] + data['salary'] + data['food_cost']\n",
    "data.groupby(by='city_arr')['costs_total'].hist(bins=20, legend=True, figsize=(12, 12))"
   ]
  },
  {
   "cell_type": "markdown",
   "metadata": {},
   "source": [
    "## seats\n",
    "\n",
    "Вместимость представленных в выборке самолетов (Боинг 737-300 и Сухой СуперДжет-100) - 130 и 97 пассажиров соответственно. При этом количество мест в бизнес-классе одинаково - таким образом, можем предположить, что далее, при анале выручки с рейса, мы увидим, что на рейсах, где применяется Сухой СуперДжет-100, доля выручки, которую приносят пассажиры бизнес-класса, окажется выше.\n",
    "\n",
    "Также стоит отметить, что в базе данных имелись самолеты/рейсы с посадочными местами типа comfort - однако, в выборке таких нет и соответствующий столбец был опущен для сокращения размера таблицы выгрузки."
   ]
  },
  {
   "cell_type": "code",
   "execution_count": 40,
   "metadata": {},
   "outputs": [
    {
     "data": {
      "text/plain": [
       "model\n",
       "Boeing 737-300         130\n",
       "Sukhoi Superjet-100     97\n",
       "Name: total_seats, dtype: int64"
      ]
     },
     "execution_count": 40,
     "metadata": {},
     "output_type": "execute_result"
    }
   ],
   "source": [
    "data.groupby('model')['total_seats'].mean()"
   ]
  },
  {
   "cell_type": "code",
   "execution_count": 41,
   "metadata": {},
   "outputs": [
    {
     "data": {
      "text/plain": [
       "model\n",
       "Boeing 737-300         118\n",
       "Sukhoi Superjet-100     85\n",
       "Name: seats_eco, dtype: int64"
      ]
     },
     "execution_count": 41,
     "metadata": {},
     "output_type": "execute_result"
    }
   ],
   "source": [
    "data.groupby('model')['seats_eco'].mean()"
   ]
  },
  {
   "cell_type": "code",
   "execution_count": 42,
   "metadata": {},
   "outputs": [
    {
     "data": {
      "text/plain": [
       "model\n",
       "Boeing 737-300         12\n",
       "Sukhoi Superjet-100    12\n",
       "Name: seats_bus, dtype: int64"
      ]
     },
     "execution_count": 42,
     "metadata": {},
     "output_type": "execute_result"
    }
   ],
   "source": [
    "data.groupby('model')['seats_bus'].mean()"
   ]
  },
  {
   "cell_type": "markdown",
   "metadata": {},
   "source": [
    "## tickets_sold and revenue\n",
    "\n",
    "Первое, на что стоит обратить внимание - на рейсах Анапа-Новокузнецк нет ни одного проданого билета - ни один пассажир ни разу не воспользовался этим рейсом.\n",
    "\n",
    "Всего в выгрузке 13 рейсов между этими городами. Полёт осуществляет Боинг 737-300, без пассажиров. Рейс осуществляется раз в неделю в 6:10 утра (scheduled).\n",
    "Вот, что удалось найти в интернете по данному вопросу (при поддержке коллег из Slack):\n",
    "«Существует такое понятие, как слот. Это время, выделенное в аэропорту определённому рейсу для прибытия или отправления самолёта. Слот платный и стоит несколько миллионов долларов. Если какое-то время авиакомпания не выполняет перелёты, место переходит к следующему перевозчику в листе ожидания. А значит, слот придётся покупать ещё раз, чего ни одна авиакомпания не хочет. Поэтому иногда им приходится совершать пустые рейсы, чтобы «налетать» норму — 80 % времени использования слота».\n",
    "\n",
    "Будем иметь это ввиду при подведении итогов. В то же время, при дальнейшем анализе прибыльности рейсов стоит исключить рейсы Анапа-Новокузнецк из выборки и более детально рассмотреть два направления - Анапа-Москва и Анапа-Белгород.\n",
    "\n",
    "Использование разных самолетов на рейсах в Москву и Белгород создает неравные условия для конкуренции в чистых продажах и выручке. Полеты в Москву с этой точки зрения оказываются более эффективными - ведь они приносят значительно больше денег. Так, например, самый \"горячий\" рейс до Белгорода принес компании 765,3 тыс. рублей, при этом самый \"низкий\" по выручке рейс до Москвы - 1372,4 тыс. рублей.\n",
    "\n",
    "Разрыв в \"весе\" рейсов по принесенным деньгам особенно хорошо заметен на боксплотах.\n",
    "\n",
    "Суммарная выручка со всех рейсов в Москву оказалась в 2.31 раза больше всей выручки рейсов Анапа-Белгород.\n",
    "\n",
    "При оценке календарного распределения выручки отметим, что средний уровень выручки стабилен от месяца к месяцу. Такая же закономерность верна и для распределения выручки по дням месяца и дням недели - выделить какие-то дни, когда случаются особенно сильные или слабые результаты с точки зрения выручки.\n",
    "\n",
    "Дополнительно была выдвинута гипотеза, что выручка от продажи билетов может быть как-то связана с задержками рейсов, но гипотеза не подтвердилась - корреляция отстуствует.\n",
    "\n",
    "Мы не будем подробно останавливаться здесь на пересчете выручки на пассажиров или время полета - подобным вычислениям и анализу будет отведено время при оценке итоговой прибыльности рейсов."
   ]
  },
  {
   "cell_type": "code",
   "execution_count": 43,
   "metadata": {},
   "outputs": [
    {
     "data": {
      "text/plain": [
       "city_arr\n",
       "Belgorod         97\n",
       "Moscow          130\n",
       "Novokuznetsk      0\n",
       "Name: total_seats_sold, dtype: int64"
      ]
     },
     "metadata": {},
     "output_type": "display_data"
    },
    {
     "data": {
      "text/plain": [
       "city_arr\n",
       "Belgorod        64\n",
       "Moscow          92\n",
       "Novokuznetsk     0\n",
       "Name: total_seats_sold, dtype: int64"
      ]
     },
     "metadata": {},
     "output_type": "display_data"
    },
    {
     "data": {
      "text/plain": [
       "city_arr\n",
       "Belgorod         90.455556\n",
       "Moscow          113.444444\n",
       "Novokuznetsk      0.000000\n",
       "Name: total_seats_sold, dtype: float64"
      ]
     },
     "metadata": {},
     "output_type": "display_data"
    },
    {
     "data": {
      "text/plain": [
       "city_arr\n",
       "Belgorod         94.0\n",
       "Moscow          112.5\n",
       "Novokuznetsk      0.0\n",
       "Name: total_seats_sold, dtype: float64"
      ]
     },
     "metadata": {},
     "output_type": "display_data"
    }
   ],
   "source": [
    "display(data.groupby('city_arr')['total_seats_sold'].max())\n",
    "display(data.groupby('city_arr')['total_seats_sold'].min())\n",
    "display(data.groupby('city_arr')['total_seats_sold'].mean())\n",
    "display(data.groupby('city_arr')['total_seats_sold'].median())"
   ]
  },
  {
   "cell_type": "code",
   "execution_count": 44,
   "metadata": {},
   "outputs": [
    {
     "name": "stdout",
     "output_type": "stream",
     "text": [
      "<class 'pandas.core.frame.DataFrame'>\n",
      "Int64Index: 180 entries, 0 to 192\n",
      "Data columns (total 34 columns):\n",
      " #   Column                Non-Null Count  Dtype  \n",
      "---  ------                --------------  -----  \n",
      " 0   flight_id             180 non-null    int64  \n",
      " 1   s_dep                 180 non-null    object \n",
      " 2   flight_month          180 non-null    float64\n",
      " 3   flight_dom            180 non-null    float64\n",
      " 4   flight_dow            180 non-null    float64\n",
      " 5   s_arr                 180 non-null    object \n",
      " 6   city_arr              180 non-null    object \n",
      " 7   model                 180 non-null    object \n",
      " 8   fuel_consum_per_h     180 non-null    int64  \n",
      " 9   a_dep                 180 non-null    object \n",
      " 10  a_arr                 180 non-null    object \n",
      " 11  delay_dep_mins        180 non-null    float64\n",
      " 12  delay_arr_mins        180 non-null    float64\n",
      " 13  flight_time_h         180 non-null    float64\n",
      " 14  fuel_cost             180 non-null    float64\n",
      " 15  lease_pay             180 non-null    int64  \n",
      " 16  salary                180 non-null    float64\n",
      " 17  food_cost             180 non-null    int64  \n",
      " 18  total_seats           180 non-null    int64  \n",
      " 19  seats_eco             180 non-null    int64  \n",
      " 20  seats_bus             180 non-null    int64  \n",
      " 21  total_seats_sold      180 non-null    int64  \n",
      " 22  revenue_eco           180 non-null    float64\n",
      " 23  revenue_bus           180 non-null    float64\n",
      " 24  revenue_total         180 non-null    float64\n",
      " 25  flight_profit         180 non-null    float64\n",
      " 26  flight_margin         180 non-null    float64\n",
      " 27  profit_per_hour       180 non-null    float64\n",
      " 28  profit_per_seat       180 non-null    float64\n",
      " 29  profit_per_passenger  180 non-null    float64\n",
      " 30  revenue_eco_p         180 non-null    float64\n",
      " 31  revenue_bus_p         180 non-null    float64\n",
      " 32  seats_sold_percent    180 non-null    float64\n",
      " 33  costs_total           180 non-null    float64\n",
      "dtypes: float64(20), int64(8), object(6)\n",
      "memory usage: 49.2+ KB\n"
     ]
    }
   ],
   "source": [
    "i = data[(data.city_arr == 'Novokuznetsk')].index\n",
    "data_part = data.drop(i)\n",
    "data_part.info()"
   ]
  },
  {
   "cell_type": "code",
   "execution_count": 45,
   "metadata": {},
   "outputs": [
    {
     "data": {
      "image/png": "[encoded data removed]",
      "text/plain": [
       "<Figure size 1008x288 with 1 Axes>"
      ]
     },
     "metadata": {
      "needs_background": "light"
     },
     "output_type": "display_data"
    }
   ],
   "source": [
    "get_boxplot('city_arr', 'revenue_total', data=data_part)"
   ]
  },
  {
   "cell_type": "code",
   "execution_count": 46,
   "metadata": {},
   "outputs": [
    {
     "data": {
      "image/png": "[encoded data removed]",
      "text/plain": [
       "<Figure size 1008x288 with 1 Axes>"
      ]
     },
     "metadata": {
      "needs_background": "light"
     },
     "output_type": "display_data"
    }
   ],
   "source": [
    "get_boxplot('city_arr', 'revenue_eco', data=data_part)"
   ]
  },
  {
   "cell_type": "code",
   "execution_count": 47,
   "metadata": {},
   "outputs": [
    {
     "data": {
      "image/png": "[encoded data removed]",
      "text/plain": [
       "<Figure size 1008x288 with 1 Axes>"
      ]
     },
     "metadata": {
      "needs_background": "light"
     },
     "output_type": "display_data"
    }
   ],
   "source": [
    "get_boxplot('city_arr', 'revenue_bus', data=data_part)"
   ]
  },
  {
   "cell_type": "code",
   "execution_count": 48,
   "metadata": {},
   "outputs": [
    {
     "data": {
      "text/plain": [
       "city_arr\n",
       "Belgorod     765300.0\n",
       "Moscow      1886000.0\n",
       "Name: revenue_total, dtype: float64"
      ]
     },
     "metadata": {},
     "output_type": "display_data"
    },
    {
     "data": {
      "text/plain": [
       "city_arr\n",
       "Belgorod     531000.0\n",
       "Moscow      1372400.0\n",
       "Name: revenue_total, dtype: float64"
      ]
     },
     "metadata": {},
     "output_type": "display_data"
    },
    {
     "data": {
      "text/plain": [
       "city_arr\n",
       "Belgorod     736950.0\n",
       "Moscow      1635300.0\n",
       "Name: revenue_total, dtype: float64"
      ]
     },
     "metadata": {},
     "output_type": "display_data"
    }
   ],
   "source": [
    "display(data_part.groupby('city_arr')['revenue_total'].max())\n",
    "display(data_part.groupby('city_arr')['revenue_total'].min())\n",
    "display(data_part.groupby('city_arr')['revenue_total'].median())"
   ]
  },
  {
   "cell_type": "code",
   "execution_count": 49,
   "metadata": {},
   "outputs": [
    {
     "data": {
      "text/plain": [
       "2.311770751937513"
      ]
     },
     "execution_count": 49,
     "metadata": {},
     "output_type": "execute_result"
    }
   ],
   "source": [
    "data_part.groupby('city_arr')['revenue_total'].sum()[\n",
    "    1] / data_part.groupby('city_arr')['revenue_total'].sum()[0]"
   ]
  },
  {
   "cell_type": "code",
   "execution_count": 50,
   "metadata": {},
   "outputs": [
    {
     "data": {
      "image/png": "[encoded data removed]",
      "text/plain": [
       "<Figure size 1008x288 with 1 Axes>"
      ]
     },
     "metadata": {
      "needs_background": "light"
     },
     "output_type": "display_data"
    }
   ],
   "source": [
    "# распределение выручки по месяцам\n",
    "get_boxplot('flight_month', 'revenue_total', data=data_part)"
   ]
  },
  {
   "cell_type": "code",
   "execution_count": 51,
   "metadata": {},
   "outputs": [
    {
     "data": {
      "image/png": "[encoded data removed]",
      "text/plain": [
       "<Figure size 1008x288 with 1 Axes>"
      ]
     },
     "metadata": {
      "needs_background": "light"
     },
     "output_type": "display_data"
    }
   ],
   "source": [
    "# распределение выручки по дням месяца\n",
    "get_boxplot('flight_dom', 'revenue_total', data=data_part)"
   ]
  },
  {
   "cell_type": "code",
   "execution_count": 52,
   "metadata": {},
   "outputs": [
    {
     "data": {
      "text/plain": [
       "flight_dom\n",
       "24.0    1061350.0\n",
       "23.0    1064300.0\n",
       "10.0    1065700.0\n",
       "9.0     1072200.0\n",
       "7.0     1086550.0\n",
       "8.0     1086550.0\n",
       "5.0     1094600.0\n",
       "25.0    1098550.0\n",
       "29.0    1099950.0\n",
       "4.0     1101100.0\n",
       "20.0    1103650.0\n",
       "11.0    1114850.0\n",
       "2.0     1122750.0\n",
       "16.0    1142050.0\n",
       "27.0    1142650.0\n",
       "14.0    1142650.0\n",
       "17.0    1148550.0\n",
       "1.0     1153650.0\n",
       "26.0    1154050.0\n",
       "30.0    1154250.0\n",
       "19.0    1154850.0\n",
       "3.0     1157800.0\n",
       "6.0     1159750.0\n",
       "13.0    1160950.0\n",
       "22.0    1166450.0\n",
       "12.0    1184150.0\n",
       "15.0    1191450.0\n",
       "18.0    1196950.0\n",
       "28.0    1198900.0\n",
       "21.0    1221950.0\n",
       "31.0    1227450.0\n",
       "Name: revenue_total, dtype: float64"
      ]
     },
     "execution_count": 52,
     "metadata": {},
     "output_type": "execute_result"
    }
   ],
   "source": [
    "data_part.groupby('flight_dom')['revenue_total'].median().sort_values()"
   ]
  },
  {
   "cell_type": "code",
   "execution_count": 53,
   "metadata": {
    "scrolled": true
   },
   "outputs": [
    {
     "data": {
      "image/png": "[encoded data removed]",
      "text/plain": [
       "<Figure size 1008x288 with 1 Axes>"
      ]
     },
     "metadata": {
      "needs_background": "light"
     },
     "output_type": "display_data"
    }
   ],
   "source": [
    "# распределение выручки по дням недели\n",
    "get_boxplot('flight_dow', 'revenue_total', data=data_part)"
   ]
  },
  {
   "cell_type": "code",
   "execution_count": 54,
   "metadata": {},
   "outputs": [
    {
     "data": {
      "text/plain": [
       "flight_dow\n",
       "6.0    1068850.0\n",
       "1.0    1081650.0\n",
       "3.0    1086550.0\n",
       "0.0    1098150.0\n",
       "4.0    1111550.0\n",
       "2.0    1141450.0\n",
       "5.0    1142650.0\n",
       "Name: revenue_total, dtype: float64"
      ]
     },
     "execution_count": 54,
     "metadata": {},
     "output_type": "execute_result"
    }
   ],
   "source": [
    "data_part.groupby('flight_dow')['revenue_total'].median().sort_values()"
   ]
  },
  {
   "cell_type": "code",
   "execution_count": 55,
   "metadata": {},
   "outputs": [
    {
     "data": {
      "text/plain": [
       "<seaborn.axisgrid.JointGrid at 0x7fd52b60e070>"
      ]
     },
     "execution_count": 55,
     "metadata": {},
     "output_type": "execute_result"
    },
    {
     "data": {
      "image/png": "[encoded data removed]",
      "text/plain": [
       "<Figure size 432x432 with 3 Axes>"
      ]
     },
     "metadata": {
      "needs_background": "light"
     },
     "output_type": "display_data"
    }
   ],
   "source": [
    "# проверим, зависит ли выручка от фактора задержек вылета\n",
    "# гипотеза - нет, не зависит\n",
    "sns.jointplot(x='delay_dep_mins', y='revenue_total',\n",
    "              data=data_part, kind='reg')"
   ]
  },
  {
   "cell_type": "markdown",
   "metadata": {},
   "source": [
    "## flight_profit - прибыль рейса (выручка за вычетом расходов)\n",
    "\n",
    "В подготовленной модели прибыль рейса определяется как разность выручки рейса и сумму расходов, представленных расходами на топливо (зависят от продолжительности рейса), лизинговых платежей (фиксированы для каждого маршрута и оценены приблизительно на основании имеющихся данных о сделках по приобретению самолетов российскими авиакомпаниями) и затрат на бортовое питания для пассажиров (расчитываются от количества проданых билетов на рейс в зависимости от класса билета).\n",
    "\n",
    "Формула расчета: flight_profit = flight_revenue - (fuel_cost + lease_pay + salary + food_cost)\n",
    "\n",
    "Рейсы до Москвы оказываются более прибыльными вне зависимости от месяца года, дня месяца и дня недели, чем рейсы до Белгорода. При этом наиболее слабый рейс по прибыли до Москвы в 1.8 раза прибыльнее самого прибылльного рейса до Белгорода.\n",
    "\n",
    "Самый прибыльный рейс в выборке принес 1438840.0 рублей. Наименее прибыльный - 306665.8 рублей."
   ]
  },
  {
   "cell_type": "code",
   "execution_count": 56,
   "metadata": {},
   "outputs": [
    {
     "data": {
      "text/html": [
       "<div>\n",
       "<style scoped>\n",
       "    .dataframe tbody tr th:only-of-type {\n",
       "        vertical-align: middle;\n",
       "    }\n",
       "\n",
       "    .dataframe tbody tr th {\n",
       "        vertical-align: top;\n",
       "    }\n",
       "\n",
       "    .dataframe thead th {\n",
       "        text-align: right;\n",
       "    }\n",
       "</style>\n",
       "<table border=\"1\" class=\"dataframe\">\n",
       "  <thead>\n",
       "    <tr style=\"text-align: right;\">\n",
       "      <th></th>\n",
       "      <th>flight_id</th>\n",
       "      <th>s_dep</th>\n",
       "      <th>flight_month</th>\n",
       "      <th>flight_dom</th>\n",
       "      <th>flight_dow</th>\n",
       "      <th>s_arr</th>\n",
       "      <th>city_arr</th>\n",
       "      <th>model</th>\n",
       "      <th>fuel_consum_per_h</th>\n",
       "      <th>a_dep</th>\n",
       "      <th>...</th>\n",
       "      <th>revenue_total</th>\n",
       "      <th>flight_profit</th>\n",
       "      <th>flight_margin</th>\n",
       "      <th>profit_per_hour</th>\n",
       "      <th>profit_per_seat</th>\n",
       "      <th>profit_per_passenger</th>\n",
       "      <th>revenue_eco_p</th>\n",
       "      <th>revenue_bus_p</th>\n",
       "      <th>seats_sold_percent</th>\n",
       "      <th>costs_total</th>\n",
       "    </tr>\n",
       "  </thead>\n",
       "  <tbody>\n",
       "    <tr>\n",
       "      <th>3</th>\n",
       "      <td>136474</td>\n",
       "      <td>2016-12-02T10:05:00Z</td>\n",
       "      <td>12.0</td>\n",
       "      <td>2.0</td>\n",
       "      <td>5.0</td>\n",
       "      <td>2016-12-02T11:45:00Z</td>\n",
       "      <td>Moscow</td>\n",
       "      <td>Boeing 737-300</td>\n",
       "      <td>2400</td>\n",
       "      <td>2016-12-02T10:06:00Z</td>\n",
       "      <td>...</td>\n",
       "      <td>1886000.0</td>\n",
       "      <td>1.438840e+06</td>\n",
       "      <td>0.762906</td>\n",
       "      <td>880922.448980</td>\n",
       "      <td>11068.000000</td>\n",
       "      <td>11068.000000</td>\n",
       "      <td>0.767126</td>\n",
       "      <td>0.232874</td>\n",
       "      <td>1.000000</td>\n",
       "      <td>447160.000000</td>\n",
       "    </tr>\n",
       "    <tr>\n",
       "      <th>65</th>\n",
       "      <td>136368</td>\n",
       "      <td>2016-12-31T10:05:00Z</td>\n",
       "      <td>12.0</td>\n",
       "      <td>31.0</td>\n",
       "      <td>6.0</td>\n",
       "      <td>2016-12-31T11:45:00Z</td>\n",
       "      <td>Moscow</td>\n",
       "      <td>Boeing 737-300</td>\n",
       "      <td>2400</td>\n",
       "      <td>2016-12-31T10:07:00Z</td>\n",
       "      <td>...</td>\n",
       "      <td>1886000.0</td>\n",
       "      <td>1.435800e+06</td>\n",
       "      <td>0.761294</td>\n",
       "      <td>861480.000000</td>\n",
       "      <td>11044.615385</td>\n",
       "      <td>11044.615385</td>\n",
       "      <td>0.767126</td>\n",
       "      <td>0.232874</td>\n",
       "      <td>1.000000</td>\n",
       "      <td>450200.000000</td>\n",
       "    </tr>\n",
       "    <tr>\n",
       "      <th>31</th>\n",
       "      <td>136465</td>\n",
       "      <td>2016-12-15T10:05:00Z</td>\n",
       "      <td>12.0</td>\n",
       "      <td>15.0</td>\n",
       "      <td>4.0</td>\n",
       "      <td>2016-12-15T11:45:00Z</td>\n",
       "      <td>Moscow</td>\n",
       "      <td>Boeing 737-300</td>\n",
       "      <td>2400</td>\n",
       "      <td>2016-12-15T10:05:00Z</td>\n",
       "      <td>...</td>\n",
       "      <td>1886000.0</td>\n",
       "      <td>1.432760e+06</td>\n",
       "      <td>0.759682</td>\n",
       "      <td>842800.000000</td>\n",
       "      <td>11021.230769</td>\n",
       "      <td>11021.230769</td>\n",
       "      <td>0.767126</td>\n",
       "      <td>0.232874</td>\n",
       "      <td>1.000000</td>\n",
       "      <td>453240.000000</td>\n",
       "    </tr>\n",
       "    <tr>\n",
       "      <th>18</th>\n",
       "      <td>136273</td>\n",
       "      <td>2016-12-09T10:05:00Z</td>\n",
       "      <td>12.0</td>\n",
       "      <td>9.0</td>\n",
       "      <td>5.0</td>\n",
       "      <td>2016-12-09T11:45:00Z</td>\n",
       "      <td>Moscow</td>\n",
       "      <td>Boeing 737-300</td>\n",
       "      <td>2400</td>\n",
       "      <td>2016-12-09T10:06:00Z</td>\n",
       "      <td>...</td>\n",
       "      <td>1873800.0</td>\n",
       "      <td>1.425645e+06</td>\n",
       "      <td>0.760831</td>\n",
       "      <td>864027.272727</td>\n",
       "      <td>10966.500000</td>\n",
       "      <td>11051.511628</td>\n",
       "      <td>0.765610</td>\n",
       "      <td>0.234390</td>\n",
       "      <td>0.992308</td>\n",
       "      <td>448155.000000</td>\n",
       "    </tr>\n",
       "    <tr>\n",
       "      <th>1</th>\n",
       "      <td>136187</td>\n",
       "      <td>2016-12-01T10:05:00Z</td>\n",
       "      <td>12.0</td>\n",
       "      <td>1.0</td>\n",
       "      <td>4.0</td>\n",
       "      <td>2016-12-01T11:45:00Z</td>\n",
       "      <td>Moscow</td>\n",
       "      <td>Boeing 737-300</td>\n",
       "      <td>2400</td>\n",
       "      <td>2016-12-01T10:09:00Z</td>\n",
       "      <td>...</td>\n",
       "      <td>1873800.0</td>\n",
       "      <td>1.424125e+06</td>\n",
       "      <td>0.760020</td>\n",
       "      <td>854475.000000</td>\n",
       "      <td>10954.807692</td>\n",
       "      <td>11039.728682</td>\n",
       "      <td>0.765610</td>\n",
       "      <td>0.234390</td>\n",
       "      <td>0.992308</td>\n",
       "      <td>449675.000000</td>\n",
       "    </tr>\n",
       "    <tr>\n",
       "      <th>...</th>\n",
       "      <td>...</td>\n",
       "      <td>...</td>\n",
       "      <td>...</td>\n",
       "      <td>...</td>\n",
       "      <td>...</td>\n",
       "      <td>...</td>\n",
       "      <td>...</td>\n",
       "      <td>...</td>\n",
       "      <td>...</td>\n",
       "      <td>...</td>\n",
       "      <td>...</td>\n",
       "      <td>...</td>\n",
       "      <td>...</td>\n",
       "      <td>...</td>\n",
       "      <td>...</td>\n",
       "      <td>...</td>\n",
       "      <td>...</td>\n",
       "      <td>...</td>\n",
       "      <td>...</td>\n",
       "      <td>...</td>\n",
       "      <td>...</td>\n",
       "    </tr>\n",
       "    <tr>\n",
       "      <th>154</th>\n",
       "      <td>136922</td>\n",
       "      <td>2017-02-11T09:25:00Z</td>\n",
       "      <td>2.0</td>\n",
       "      <td>11.0</td>\n",
       "      <td>6.0</td>\n",
       "      <td>2017-02-11T10:15:00Z</td>\n",
       "      <td>Belgorod</td>\n",
       "      <td>Sukhoi Superjet-100</td>\n",
       "      <td>1700</td>\n",
       "      <td>2017-02-11T09:27:00Z</td>\n",
       "      <td>...</td>\n",
       "      <td>607800.0</td>\n",
       "      <td>3.788375e+05</td>\n",
       "      <td>0.623293</td>\n",
       "      <td>454605.000000</td>\n",
       "      <td>3905.541237</td>\n",
       "      <td>4984.703947</td>\n",
       "      <td>0.689042</td>\n",
       "      <td>0.310958</td>\n",
       "      <td>0.783505</td>\n",
       "      <td>228962.500000</td>\n",
       "    </tr>\n",
       "    <tr>\n",
       "      <th>107</th>\n",
       "      <td>136887</td>\n",
       "      <td>2017-01-20T09:25:00Z</td>\n",
       "      <td>1.0</td>\n",
       "      <td>20.0</td>\n",
       "      <td>5.0</td>\n",
       "      <td>2017-01-20T10:15:00Z</td>\n",
       "      <td>Belgorod</td>\n",
       "      <td>Sukhoi Superjet-100</td>\n",
       "      <td>1700</td>\n",
       "      <td>2017-01-20T09:30:00Z</td>\n",
       "      <td>...</td>\n",
       "      <td>595200.0</td>\n",
       "      <td>3.669658e+05</td>\n",
       "      <td>0.616542</td>\n",
       "      <td>449345.918367</td>\n",
       "      <td>3783.152921</td>\n",
       "      <td>4704.690171</td>\n",
       "      <td>0.745968</td>\n",
       "      <td>0.254032</td>\n",
       "      <td>0.804124</td>\n",
       "      <td>228234.166667</td>\n",
       "    </tr>\n",
       "    <tr>\n",
       "      <th>191</th>\n",
       "      <td>136844</td>\n",
       "      <td>2017-02-28T09:25:00Z</td>\n",
       "      <td>2.0</td>\n",
       "      <td>28.0</td>\n",
       "      <td>2.0</td>\n",
       "      <td>2017-02-28T10:15:00Z</td>\n",
       "      <td>Belgorod</td>\n",
       "      <td>Sukhoi Superjet-100</td>\n",
       "      <td>1700</td>\n",
       "      <td>2017-02-28T09:26:00Z</td>\n",
       "      <td>...</td>\n",
       "      <td>575100.0</td>\n",
       "      <td>3.514625e+05</td>\n",
       "      <td>0.611133</td>\n",
       "      <td>421755.000000</td>\n",
       "      <td>3623.324742</td>\n",
       "      <td>4448.892405</td>\n",
       "      <td>0.802817</td>\n",
       "      <td>0.197183</td>\n",
       "      <td>0.814433</td>\n",
       "      <td>223637.500000</td>\n",
       "    </tr>\n",
       "    <tr>\n",
       "      <th>180</th>\n",
       "      <td>136807</td>\n",
       "      <td>2017-02-23T09:25:00Z</td>\n",
       "      <td>2.0</td>\n",
       "      <td>23.0</td>\n",
       "      <td>4.0</td>\n",
       "      <td>2017-02-23T10:15:00Z</td>\n",
       "      <td>Belgorod</td>\n",
       "      <td>Sukhoi Superjet-100</td>\n",
       "      <td>1700</td>\n",
       "      <td>2017-02-23T09:28:00Z</td>\n",
       "      <td>...</td>\n",
       "      <td>531000.0</td>\n",
       "      <td>3.096875e+05</td>\n",
       "      <td>0.583216</td>\n",
       "      <td>371625.000000</td>\n",
       "      <td>3192.654639</td>\n",
       "      <td>4554.227941</td>\n",
       "      <td>0.715254</td>\n",
       "      <td>0.284746</td>\n",
       "      <td>0.701031</td>\n",
       "      <td>221312.500000</td>\n",
       "    </tr>\n",
       "    <tr>\n",
       "      <th>128</th>\n",
       "      <td>136642</td>\n",
       "      <td>2017-01-30T09:25:00Z</td>\n",
       "      <td>1.0</td>\n",
       "      <td>30.0</td>\n",
       "      <td>1.0</td>\n",
       "      <td>2017-01-30T10:15:00Z</td>\n",
       "      <td>Belgorod</td>\n",
       "      <td>Sukhoi Superjet-100</td>\n",
       "      <td>1700</td>\n",
       "      <td>2017-01-30T09:28:00Z</td>\n",
       "      <td>...</td>\n",
       "      <td>531000.0</td>\n",
       "      <td>3.066658e+05</td>\n",
       "      <td>0.577525</td>\n",
       "      <td>375509.183673</td>\n",
       "      <td>3161.503436</td>\n",
       "      <td>4791.653646</td>\n",
       "      <td>0.644068</td>\n",
       "      <td>0.355932</td>\n",
       "      <td>0.659794</td>\n",
       "      <td>224334.166667</td>\n",
       "    </tr>\n",
       "  </tbody>\n",
       "</table>\n",
       "<p>180 rows × 34 columns</p>\n",
       "</div>"
      ],
      "text/plain": [
       "     flight_id                 s_dep  flight_month  flight_dom  flight_dow  \\\n",
       "3       136474  2016-12-02T10:05:00Z          12.0         2.0         5.0   \n",
       "65      136368  2016-12-31T10:05:00Z          12.0        31.0         6.0   \n",
       "31      136465  2016-12-15T10:05:00Z          12.0        15.0         4.0   \n",
       "18      136273  2016-12-09T10:05:00Z          12.0         9.0         5.0   \n",
       "1       136187  2016-12-01T10:05:00Z          12.0         1.0         4.0   \n",
       "..         ...                   ...           ...         ...         ...   \n",
       "154     136922  2017-02-11T09:25:00Z           2.0        11.0         6.0   \n",
       "107     136887  2017-01-20T09:25:00Z           1.0        20.0         5.0   \n",
       "191     136844  2017-02-28T09:25:00Z           2.0        28.0         2.0   \n",
       "180     136807  2017-02-23T09:25:00Z           2.0        23.0         4.0   \n",
       "128     136642  2017-01-30T09:25:00Z           1.0        30.0         1.0   \n",
       "\n",
       "                    s_arr  city_arr                model  fuel_consum_per_h  \\\n",
       "3    2016-12-02T11:45:00Z    Moscow       Boeing 737-300               2400   \n",
       "65   2016-12-31T11:45:00Z    Moscow       Boeing 737-300               2400   \n",
       "31   2016-12-15T11:45:00Z    Moscow       Boeing 737-300               2400   \n",
       "18   2016-12-09T11:45:00Z    Moscow       Boeing 737-300               2400   \n",
       "1    2016-12-01T11:45:00Z    Moscow       Boeing 737-300               2400   \n",
       "..                    ...       ...                  ...                ...   \n",
       "154  2017-02-11T10:15:00Z  Belgorod  Sukhoi Superjet-100               1700   \n",
       "107  2017-01-20T10:15:00Z  Belgorod  Sukhoi Superjet-100               1700   \n",
       "191  2017-02-28T10:15:00Z  Belgorod  Sukhoi Superjet-100               1700   \n",
       "180  2017-02-23T10:15:00Z  Belgorod  Sukhoi Superjet-100               1700   \n",
       "128  2017-01-30T10:15:00Z  Belgorod  Sukhoi Superjet-100               1700   \n",
       "\n",
       "                    a_dep  ... revenue_total  flight_profit  flight_margin  \\\n",
       "3    2016-12-02T10:06:00Z  ...     1886000.0   1.438840e+06       0.762906   \n",
       "65   2016-12-31T10:07:00Z  ...     1886000.0   1.435800e+06       0.761294   \n",
       "31   2016-12-15T10:05:00Z  ...     1886000.0   1.432760e+06       0.759682   \n",
       "18   2016-12-09T10:06:00Z  ...     1873800.0   1.425645e+06       0.760831   \n",
       "1    2016-12-01T10:09:00Z  ...     1873800.0   1.424125e+06       0.760020   \n",
       "..                    ...  ...           ...            ...            ...   \n",
       "154  2017-02-11T09:27:00Z  ...      607800.0   3.788375e+05       0.623293   \n",
       "107  2017-01-20T09:30:00Z  ...      595200.0   3.669658e+05       0.616542   \n",
       "191  2017-02-28T09:26:00Z  ...      575100.0   3.514625e+05       0.611133   \n",
       "180  2017-02-23T09:28:00Z  ...      531000.0   3.096875e+05       0.583216   \n",
       "128  2017-01-30T09:28:00Z  ...      531000.0   3.066658e+05       0.577525   \n",
       "\n",
       "     profit_per_hour  profit_per_seat  profit_per_passenger  revenue_eco_p  \\\n",
       "3      880922.448980     11068.000000          11068.000000       0.767126   \n",
       "65     861480.000000     11044.615385          11044.615385       0.767126   \n",
       "31     842800.000000     11021.230769          11021.230769       0.767126   \n",
       "18     864027.272727     10966.500000          11051.511628       0.765610   \n",
       "1      854475.000000     10954.807692          11039.728682       0.765610   \n",
       "..               ...              ...                   ...            ...   \n",
       "154    454605.000000      3905.541237           4984.703947       0.689042   \n",
       "107    449345.918367      3783.152921           4704.690171       0.745968   \n",
       "191    421755.000000      3623.324742           4448.892405       0.802817   \n",
       "180    371625.000000      3192.654639           4554.227941       0.715254   \n",
       "128    375509.183673      3161.503436           4791.653646       0.644068   \n",
       "\n",
       "     revenue_bus_p  seats_sold_percent    costs_total  \n",
       "3         0.232874            1.000000  447160.000000  \n",
       "65        0.232874            1.000000  450200.000000  \n",
       "31        0.232874            1.000000  453240.000000  \n",
       "18        0.234390            0.992308  448155.000000  \n",
       "1         0.234390            0.992308  449675.000000  \n",
       "..             ...                 ...            ...  \n",
       "154       0.310958            0.783505  228962.500000  \n",
       "107       0.254032            0.804124  228234.166667  \n",
       "191       0.197183            0.814433  223637.500000  \n",
       "180       0.284746            0.701031  221312.500000  \n",
       "128       0.355932            0.659794  224334.166667  \n",
       "\n",
       "[180 rows x 34 columns]"
      ]
     },
     "execution_count": 56,
     "metadata": {},
     "output_type": "execute_result"
    }
   ],
   "source": [
    "# most profitable flights\n",
    "data_part.sort_values(by='flight_profit', ascending=False)"
   ]
  },
  {
   "cell_type": "code",
   "execution_count": 57,
   "metadata": {},
   "outputs": [
    {
     "data": {
      "text/plain": [
       "city_arr\n",
       "Belgorod    AxesSubplot(0.125,0.125;0.775x0.755)\n",
       "Moscow      AxesSubplot(0.125,0.125;0.775x0.755)\n",
       "Name: flight_profit, dtype: object"
      ]
     },
     "execution_count": 57,
     "metadata": {},
     "output_type": "execute_result"
    },
    {
     "data": {
      "image/png": "[encoded data removed]",
      "text/plain": [
       "<Figure size 432x288 with 1 Axes>"
      ]
     },
     "metadata": {
      "needs_background": "light"
     },
     "output_type": "display_data"
    }
   ],
   "source": [
    "data_part.groupby(by='city_arr')['flight_profit'].hist(bins=30, legend=True)"
   ]
  },
  {
   "cell_type": "code",
   "execution_count": 58,
   "metadata": {},
   "outputs": [
    {
     "data": {
      "text/plain": [
       "945600.0"
      ]
     },
     "execution_count": 58,
     "metadata": {},
     "output_type": "execute_result"
    }
   ],
   "source": [
    "# least profitable flight to Moscow\n",
    "least_prof_msc = data_part[data_part['city_arr']\n",
    "                           == 'Moscow'].flight_profit.min()\n",
    "least_prof_msc"
   ]
  },
  {
   "cell_type": "code",
   "execution_count": 59,
   "metadata": {},
   "outputs": [
    {
     "data": {
      "text/plain": [
       "523279.16666666657"
      ]
     },
     "execution_count": 59,
     "metadata": {},
     "output_type": "execute_result"
    }
   ],
   "source": [
    "# most profitable flight to Belgorod\n",
    "most_prof_blg = data_part[data_part['city_arr']\n",
    "                          == 'Belgorod'].flight_profit.max()\n",
    "most_prof_blg"
   ]
  },
  {
   "cell_type": "code",
   "execution_count": 60,
   "metadata": {},
   "outputs": [
    {
     "data": {
      "text/plain": [
       "1.8070660179795683"
      ]
     },
     "execution_count": 60,
     "metadata": {},
     "output_type": "execute_result"
    }
   ],
   "source": [
    "# diffirence (times)\n",
    "\n",
    "least_prof_msc / most_prof_blg"
   ]
  },
  {
   "cell_type": "code",
   "execution_count": 61,
   "metadata": {},
   "outputs": [
    {
     "data": {
      "image/png": "[encoded data removed]",
      "text/plain": [
       "<Figure size 1008x288 with 1 Axes>"
      ]
     },
     "metadata": {
      "needs_background": "light"
     },
     "output_type": "display_data"
    }
   ],
   "source": [
    "# распределение прибыли рейсов по маршрутам\n",
    "get_boxplot('city_arr', 'flight_profit', data=data_part)"
   ]
  },
  {
   "cell_type": "code",
   "execution_count": 62,
   "metadata": {},
   "outputs": [
    {
     "data": {
      "image/png": "[encoded data removed]",
      "text/plain": [
       "<Figure size 1008x288 with 1 Axes>"
      ]
     },
     "metadata": {
      "needs_background": "light"
     },
     "output_type": "display_data"
    }
   ],
   "source": [
    "# распределение прибыли рейсов по месяцам\n",
    "get_boxplot('flight_month', 'flight_profit', data=data_part)"
   ]
  },
  {
   "cell_type": "code",
   "execution_count": 63,
   "metadata": {},
   "outputs": [
    {
     "data": {
      "image/png": "[encoded data removed]",
      "text/plain": [
       "<Figure size 1008x288 with 1 Axes>"
      ]
     },
     "metadata": {
      "needs_background": "light"
     },
     "output_type": "display_data"
    }
   ],
   "source": [
    "# распределение прибыли рейсов по дням месяца\n",
    "get_boxplot('flight_dom', 'flight_profit', data=data_part)"
   ]
  },
  {
   "cell_type": "code",
   "execution_count": 64,
   "metadata": {},
   "outputs": [
    {
     "data": {
      "image/png": "[encoded data removed]",
      "text/plain": [
       "<Figure size 1008x288 with 1 Axes>"
      ]
     },
     "metadata": {
      "needs_background": "light"
     },
     "output_type": "display_data"
    }
   ],
   "source": [
    "# распределение прибыли рейсов по дням недели\n",
    "get_boxplot('flight_dow', 'flight_profit', data=data_part)"
   ]
  },
  {
   "cell_type": "markdown",
   "metadata": {},
   "source": [
    "## flight_margin - рентабельность рейса (отношение прибыли к выручке)\n",
    "\n",
    "Имея очевидный перевес в пользу рейсов до Москвы стоит оценить относительную эффективность направлений. Сперва оценим рентабельность рейсов. Рентабельность будем оценивать как отношение прибыли к суммарной выручке с рейса.\n",
    "\n",
    "Разрыв в рентабельности оказывается уже не таким существенным. Так, самый высокорентабельный рейс (Анапа-Москва) показывает рентабельность 76,3% в рамках предложенной модели, а самый низкоэффективный рейс - 57.8%.\n",
    "\n",
    "И хотя самый маржинальный рейс до Белгорода уступает в рентабельности наименее \"слабому\" рейсу до Москвы, разница несущественна - 68.4% и 68.7% рентабельности соответственно. На такие рейсы стоит обратить более пристальное внимание при более подробном исследовании."
   ]
  },
  {
   "cell_type": "code",
   "execution_count": 65,
   "metadata": {},
   "outputs": [
    {
     "data": {
      "text/plain": [
       "<AxesSubplot:>"
      ]
     },
     "execution_count": 65,
     "metadata": {},
     "output_type": "execute_result"
    },
    {
     "data": {
      "image/png": "[encoded data removed]",
      "text/plain": [
       "<Figure size 432x288 with 1 Axes>"
      ]
     },
     "metadata": {
      "needs_background": "light"
     },
     "output_type": "display_data"
    }
   ],
   "source": [
    "data_part['flight_margin'].hist()"
   ]
  },
  {
   "cell_type": "code",
   "execution_count": 66,
   "metadata": {},
   "outputs": [
    {
     "data": {
      "text/html": [
       "<div>\n",
       "<style scoped>\n",
       "    .dataframe tbody tr th:only-of-type {\n",
       "        vertical-align: middle;\n",
       "    }\n",
       "\n",
       "    .dataframe tbody tr th {\n",
       "        vertical-align: top;\n",
       "    }\n",
       "\n",
       "    .dataframe thead th {\n",
       "        text-align: right;\n",
       "    }\n",
       "</style>\n",
       "<table border=\"1\" class=\"dataframe\">\n",
       "  <thead>\n",
       "    <tr style=\"text-align: right;\">\n",
       "      <th></th>\n",
       "      <th>flight_id</th>\n",
       "      <th>s_dep</th>\n",
       "      <th>flight_month</th>\n",
       "      <th>flight_dom</th>\n",
       "      <th>flight_dow</th>\n",
       "      <th>s_arr</th>\n",
       "      <th>city_arr</th>\n",
       "      <th>model</th>\n",
       "      <th>fuel_consum_per_h</th>\n",
       "      <th>a_dep</th>\n",
       "      <th>...</th>\n",
       "      <th>revenue_total</th>\n",
       "      <th>flight_profit</th>\n",
       "      <th>flight_margin</th>\n",
       "      <th>profit_per_hour</th>\n",
       "      <th>profit_per_seat</th>\n",
       "      <th>profit_per_passenger</th>\n",
       "      <th>revenue_eco_p</th>\n",
       "      <th>revenue_bus_p</th>\n",
       "      <th>seats_sold_percent</th>\n",
       "      <th>costs_total</th>\n",
       "    </tr>\n",
       "  </thead>\n",
       "  <tbody>\n",
       "    <tr>\n",
       "      <th>3</th>\n",
       "      <td>136474</td>\n",
       "      <td>2016-12-02T10:05:00Z</td>\n",
       "      <td>12.0</td>\n",
       "      <td>2.0</td>\n",
       "      <td>5.0</td>\n",
       "      <td>2016-12-02T11:45:00Z</td>\n",
       "      <td>Moscow</td>\n",
       "      <td>Boeing 737-300</td>\n",
       "      <td>2400</td>\n",
       "      <td>2016-12-02T10:06:00Z</td>\n",
       "      <td>...</td>\n",
       "      <td>1886000.0</td>\n",
       "      <td>1.438840e+06</td>\n",
       "      <td>0.762906</td>\n",
       "      <td>880922.448980</td>\n",
       "      <td>11068.000000</td>\n",
       "      <td>11068.000000</td>\n",
       "      <td>0.767126</td>\n",
       "      <td>0.232874</td>\n",
       "      <td>1.000000</td>\n",
       "      <td>447160.000000</td>\n",
       "    </tr>\n",
       "    <tr>\n",
       "      <th>65</th>\n",
       "      <td>136368</td>\n",
       "      <td>2016-12-31T10:05:00Z</td>\n",
       "      <td>12.0</td>\n",
       "      <td>31.0</td>\n",
       "      <td>6.0</td>\n",
       "      <td>2016-12-31T11:45:00Z</td>\n",
       "      <td>Moscow</td>\n",
       "      <td>Boeing 737-300</td>\n",
       "      <td>2400</td>\n",
       "      <td>2016-12-31T10:07:00Z</td>\n",
       "      <td>...</td>\n",
       "      <td>1886000.0</td>\n",
       "      <td>1.435800e+06</td>\n",
       "      <td>0.761294</td>\n",
       "      <td>861480.000000</td>\n",
       "      <td>11044.615385</td>\n",
       "      <td>11044.615385</td>\n",
       "      <td>0.767126</td>\n",
       "      <td>0.232874</td>\n",
       "      <td>1.000000</td>\n",
       "      <td>450200.000000</td>\n",
       "    </tr>\n",
       "    <tr>\n",
       "      <th>18</th>\n",
       "      <td>136273</td>\n",
       "      <td>2016-12-09T10:05:00Z</td>\n",
       "      <td>12.0</td>\n",
       "      <td>9.0</td>\n",
       "      <td>5.0</td>\n",
       "      <td>2016-12-09T11:45:00Z</td>\n",
       "      <td>Moscow</td>\n",
       "      <td>Boeing 737-300</td>\n",
       "      <td>2400</td>\n",
       "      <td>2016-12-09T10:06:00Z</td>\n",
       "      <td>...</td>\n",
       "      <td>1873800.0</td>\n",
       "      <td>1.425645e+06</td>\n",
       "      <td>0.760831</td>\n",
       "      <td>864027.272727</td>\n",
       "      <td>10966.500000</td>\n",
       "      <td>11051.511628</td>\n",
       "      <td>0.765610</td>\n",
       "      <td>0.234390</td>\n",
       "      <td>0.992308</td>\n",
       "      <td>448155.000000</td>\n",
       "    </tr>\n",
       "    <tr>\n",
       "      <th>1</th>\n",
       "      <td>136187</td>\n",
       "      <td>2016-12-01T10:05:00Z</td>\n",
       "      <td>12.0</td>\n",
       "      <td>1.0</td>\n",
       "      <td>4.0</td>\n",
       "      <td>2016-12-01T11:45:00Z</td>\n",
       "      <td>Moscow</td>\n",
       "      <td>Boeing 737-300</td>\n",
       "      <td>2400</td>\n",
       "      <td>2016-12-01T10:09:00Z</td>\n",
       "      <td>...</td>\n",
       "      <td>1873800.0</td>\n",
       "      <td>1.424125e+06</td>\n",
       "      <td>0.760020</td>\n",
       "      <td>854475.000000</td>\n",
       "      <td>10954.807692</td>\n",
       "      <td>11039.728682</td>\n",
       "      <td>0.765610</td>\n",
       "      <td>0.234390</td>\n",
       "      <td>0.992308</td>\n",
       "      <td>449675.000000</td>\n",
       "    </tr>\n",
       "    <tr>\n",
       "      <th>31</th>\n",
       "      <td>136465</td>\n",
       "      <td>2016-12-15T10:05:00Z</td>\n",
       "      <td>12.0</td>\n",
       "      <td>15.0</td>\n",
       "      <td>4.0</td>\n",
       "      <td>2016-12-15T11:45:00Z</td>\n",
       "      <td>Moscow</td>\n",
       "      <td>Boeing 737-300</td>\n",
       "      <td>2400</td>\n",
       "      <td>2016-12-15T10:05:00Z</td>\n",
       "      <td>...</td>\n",
       "      <td>1886000.0</td>\n",
       "      <td>1.432760e+06</td>\n",
       "      <td>0.759682</td>\n",
       "      <td>842800.000000</td>\n",
       "      <td>11021.230769</td>\n",
       "      <td>11021.230769</td>\n",
       "      <td>0.767126</td>\n",
       "      <td>0.232874</td>\n",
       "      <td>1.000000</td>\n",
       "      <td>453240.000000</td>\n",
       "    </tr>\n",
       "    <tr>\n",
       "      <th>...</th>\n",
       "      <td>...</td>\n",
       "      <td>...</td>\n",
       "      <td>...</td>\n",
       "      <td>...</td>\n",
       "      <td>...</td>\n",
       "      <td>...</td>\n",
       "      <td>...</td>\n",
       "      <td>...</td>\n",
       "      <td>...</td>\n",
       "      <td>...</td>\n",
       "      <td>...</td>\n",
       "      <td>...</td>\n",
       "      <td>...</td>\n",
       "      <td>...</td>\n",
       "      <td>...</td>\n",
       "      <td>...</td>\n",
       "      <td>...</td>\n",
       "      <td>...</td>\n",
       "      <td>...</td>\n",
       "      <td>...</td>\n",
       "      <td>...</td>\n",
       "    </tr>\n",
       "    <tr>\n",
       "      <th>154</th>\n",
       "      <td>136922</td>\n",
       "      <td>2017-02-11T09:25:00Z</td>\n",
       "      <td>2.0</td>\n",
       "      <td>11.0</td>\n",
       "      <td>6.0</td>\n",
       "      <td>2017-02-11T10:15:00Z</td>\n",
       "      <td>Belgorod</td>\n",
       "      <td>Sukhoi Superjet-100</td>\n",
       "      <td>1700</td>\n",
       "      <td>2017-02-11T09:27:00Z</td>\n",
       "      <td>...</td>\n",
       "      <td>607800.0</td>\n",
       "      <td>3.788375e+05</td>\n",
       "      <td>0.623293</td>\n",
       "      <td>454605.000000</td>\n",
       "      <td>3905.541237</td>\n",
       "      <td>4984.703947</td>\n",
       "      <td>0.689042</td>\n",
       "      <td>0.310958</td>\n",
       "      <td>0.783505</td>\n",
       "      <td>228962.500000</td>\n",
       "    </tr>\n",
       "    <tr>\n",
       "      <th>107</th>\n",
       "      <td>136887</td>\n",
       "      <td>2017-01-20T09:25:00Z</td>\n",
       "      <td>1.0</td>\n",
       "      <td>20.0</td>\n",
       "      <td>5.0</td>\n",
       "      <td>2017-01-20T10:15:00Z</td>\n",
       "      <td>Belgorod</td>\n",
       "      <td>Sukhoi Superjet-100</td>\n",
       "      <td>1700</td>\n",
       "      <td>2017-01-20T09:30:00Z</td>\n",
       "      <td>...</td>\n",
       "      <td>595200.0</td>\n",
       "      <td>3.669658e+05</td>\n",
       "      <td>0.616542</td>\n",
       "      <td>449345.918367</td>\n",
       "      <td>3783.152921</td>\n",
       "      <td>4704.690171</td>\n",
       "      <td>0.745968</td>\n",
       "      <td>0.254032</td>\n",
       "      <td>0.804124</td>\n",
       "      <td>228234.166667</td>\n",
       "    </tr>\n",
       "    <tr>\n",
       "      <th>191</th>\n",
       "      <td>136844</td>\n",
       "      <td>2017-02-28T09:25:00Z</td>\n",
       "      <td>2.0</td>\n",
       "      <td>28.0</td>\n",
       "      <td>2.0</td>\n",
       "      <td>2017-02-28T10:15:00Z</td>\n",
       "      <td>Belgorod</td>\n",
       "      <td>Sukhoi Superjet-100</td>\n",
       "      <td>1700</td>\n",
       "      <td>2017-02-28T09:26:00Z</td>\n",
       "      <td>...</td>\n",
       "      <td>575100.0</td>\n",
       "      <td>3.514625e+05</td>\n",
       "      <td>0.611133</td>\n",
       "      <td>421755.000000</td>\n",
       "      <td>3623.324742</td>\n",
       "      <td>4448.892405</td>\n",
       "      <td>0.802817</td>\n",
       "      <td>0.197183</td>\n",
       "      <td>0.814433</td>\n",
       "      <td>223637.500000</td>\n",
       "    </tr>\n",
       "    <tr>\n",
       "      <th>180</th>\n",
       "      <td>136807</td>\n",
       "      <td>2017-02-23T09:25:00Z</td>\n",
       "      <td>2.0</td>\n",
       "      <td>23.0</td>\n",
       "      <td>4.0</td>\n",
       "      <td>2017-02-23T10:15:00Z</td>\n",
       "      <td>Belgorod</td>\n",
       "      <td>Sukhoi Superjet-100</td>\n",
       "      <td>1700</td>\n",
       "      <td>2017-02-23T09:28:00Z</td>\n",
       "      <td>...</td>\n",
       "      <td>531000.0</td>\n",
       "      <td>3.096875e+05</td>\n",
       "      <td>0.583216</td>\n",
       "      <td>371625.000000</td>\n",
       "      <td>3192.654639</td>\n",
       "      <td>4554.227941</td>\n",
       "      <td>0.715254</td>\n",
       "      <td>0.284746</td>\n",
       "      <td>0.701031</td>\n",
       "      <td>221312.500000</td>\n",
       "    </tr>\n",
       "    <tr>\n",
       "      <th>128</th>\n",
       "      <td>136642</td>\n",
       "      <td>2017-01-30T09:25:00Z</td>\n",
       "      <td>1.0</td>\n",
       "      <td>30.0</td>\n",
       "      <td>1.0</td>\n",
       "      <td>2017-01-30T10:15:00Z</td>\n",
       "      <td>Belgorod</td>\n",
       "      <td>Sukhoi Superjet-100</td>\n",
       "      <td>1700</td>\n",
       "      <td>2017-01-30T09:28:00Z</td>\n",
       "      <td>...</td>\n",
       "      <td>531000.0</td>\n",
       "      <td>3.066658e+05</td>\n",
       "      <td>0.577525</td>\n",
       "      <td>375509.183673</td>\n",
       "      <td>3161.503436</td>\n",
       "      <td>4791.653646</td>\n",
       "      <td>0.644068</td>\n",
       "      <td>0.355932</td>\n",
       "      <td>0.659794</td>\n",
       "      <td>224334.166667</td>\n",
       "    </tr>\n",
       "  </tbody>\n",
       "</table>\n",
       "<p>180 rows × 34 columns</p>\n",
       "</div>"
      ],
      "text/plain": [
       "     flight_id                 s_dep  flight_month  flight_dom  flight_dow  \\\n",
       "3       136474  2016-12-02T10:05:00Z          12.0         2.0         5.0   \n",
       "65      136368  2016-12-31T10:05:00Z          12.0        31.0         6.0   \n",
       "18      136273  2016-12-09T10:05:00Z          12.0         9.0         5.0   \n",
       "1       136187  2016-12-01T10:05:00Z          12.0         1.0         4.0   \n",
       "31      136465  2016-12-15T10:05:00Z          12.0        15.0         4.0   \n",
       "..         ...                   ...           ...         ...         ...   \n",
       "154     136922  2017-02-11T09:25:00Z           2.0        11.0         6.0   \n",
       "107     136887  2017-01-20T09:25:00Z           1.0        20.0         5.0   \n",
       "191     136844  2017-02-28T09:25:00Z           2.0        28.0         2.0   \n",
       "180     136807  2017-02-23T09:25:00Z           2.0        23.0         4.0   \n",
       "128     136642  2017-01-30T09:25:00Z           1.0        30.0         1.0   \n",
       "\n",
       "                    s_arr  city_arr                model  fuel_consum_per_h  \\\n",
       "3    2016-12-02T11:45:00Z    Moscow       Boeing 737-300               2400   \n",
       "65   2016-12-31T11:45:00Z    Moscow       Boeing 737-300               2400   \n",
       "18   2016-12-09T11:45:00Z    Moscow       Boeing 737-300               2400   \n",
       "1    2016-12-01T11:45:00Z    Moscow       Boeing 737-300               2400   \n",
       "31   2016-12-15T11:45:00Z    Moscow       Boeing 737-300               2400   \n",
       "..                    ...       ...                  ...                ...   \n",
       "154  2017-02-11T10:15:00Z  Belgorod  Sukhoi Superjet-100               1700   \n",
       "107  2017-01-20T10:15:00Z  Belgorod  Sukhoi Superjet-100               1700   \n",
       "191  2017-02-28T10:15:00Z  Belgorod  Sukhoi Superjet-100               1700   \n",
       "180  2017-02-23T10:15:00Z  Belgorod  Sukhoi Superjet-100               1700   \n",
       "128  2017-01-30T10:15:00Z  Belgorod  Sukhoi Superjet-100               1700   \n",
       "\n",
       "                    a_dep  ... revenue_total  flight_profit  flight_margin  \\\n",
       "3    2016-12-02T10:06:00Z  ...     1886000.0   1.438840e+06       0.762906   \n",
       "65   2016-12-31T10:07:00Z  ...     1886000.0   1.435800e+06       0.761294   \n",
       "18   2016-12-09T10:06:00Z  ...     1873800.0   1.425645e+06       0.760831   \n",
       "1    2016-12-01T10:09:00Z  ...     1873800.0   1.424125e+06       0.760020   \n",
       "31   2016-12-15T10:05:00Z  ...     1886000.0   1.432760e+06       0.759682   \n",
       "..                    ...  ...           ...            ...            ...   \n",
       "154  2017-02-11T09:27:00Z  ...      607800.0   3.788375e+05       0.623293   \n",
       "107  2017-01-20T09:30:00Z  ...      595200.0   3.669658e+05       0.616542   \n",
       "191  2017-02-28T09:26:00Z  ...      575100.0   3.514625e+05       0.611133   \n",
       "180  2017-02-23T09:28:00Z  ...      531000.0   3.096875e+05       0.583216   \n",
       "128  2017-01-30T09:28:00Z  ...      531000.0   3.066658e+05       0.577525   \n",
       "\n",
       "     profit_per_hour  profit_per_seat  profit_per_passenger  revenue_eco_p  \\\n",
       "3      880922.448980     11068.000000          11068.000000       0.767126   \n",
       "65     861480.000000     11044.615385          11044.615385       0.767126   \n",
       "18     864027.272727     10966.500000          11051.511628       0.765610   \n",
       "1      854475.000000     10954.807692          11039.728682       0.765610   \n",
       "31     842800.000000     11021.230769          11021.230769       0.767126   \n",
       "..               ...              ...                   ...            ...   \n",
       "154    454605.000000      3905.541237           4984.703947       0.689042   \n",
       "107    449345.918367      3783.152921           4704.690171       0.745968   \n",
       "191    421755.000000      3623.324742           4448.892405       0.802817   \n",
       "180    371625.000000      3192.654639           4554.227941       0.715254   \n",
       "128    375509.183673      3161.503436           4791.653646       0.644068   \n",
       "\n",
       "     revenue_bus_p  seats_sold_percent    costs_total  \n",
       "3         0.232874            1.000000  447160.000000  \n",
       "65        0.232874            1.000000  450200.000000  \n",
       "18        0.234390            0.992308  448155.000000  \n",
       "1         0.234390            0.992308  449675.000000  \n",
       "31        0.232874            1.000000  453240.000000  \n",
       "..             ...                 ...            ...  \n",
       "154       0.310958            0.783505  228962.500000  \n",
       "107       0.254032            0.804124  228234.166667  \n",
       "191       0.197183            0.814433  223637.500000  \n",
       "180       0.284746            0.701031  221312.500000  \n",
       "128       0.355932            0.659794  224334.166667  \n",
       "\n",
       "[180 rows x 34 columns]"
      ]
     },
     "execution_count": 66,
     "metadata": {},
     "output_type": "execute_result"
    }
   ],
   "source": [
    "data_part.sort_values(by='flight_margin', ascending=False)"
   ]
  },
  {
   "cell_type": "code",
   "execution_count": 67,
   "metadata": {},
   "outputs": [
    {
     "data": {
      "image/png": "[encoded data removed]",
      "text/plain": [
       "<Figure size 1008x288 with 1 Axes>"
      ]
     },
     "metadata": {
      "needs_background": "light"
     },
     "output_type": "display_data"
    }
   ],
   "source": [
    "get_boxplot('city_arr', 'flight_margin', data=data_part)"
   ]
  },
  {
   "cell_type": "code",
   "execution_count": 68,
   "metadata": {},
   "outputs": [
    {
     "name": "stdout",
     "output_type": "stream",
     "text": [
      "msc = 0.6868204577968526 blg = 0.6837569144997604\n"
     ]
    }
   ],
   "source": [
    "# find more marginable flight to Belgorod than to Moscow\n",
    "# least marg flight to Moscow\n",
    "least_marg_msc = data_part[data_part['city_arr']\n",
    "                           == 'Moscow'].flight_margin.min()\n",
    "# most marg flight to Belgorod\n",
    "most_marg_blg = data_part[data_part['city_arr']\n",
    "                          == 'Belgorod'].flight_margin.max()\n",
    "\n",
    "print('msc =', least_marg_msc, 'blg =', most_marg_blg)"
   ]
  },
  {
   "cell_type": "code",
   "execution_count": 69,
   "metadata": {},
   "outputs": [
    {
     "data": {
      "image/png": "[encoded data removed]",
      "text/plain": [
       "<Figure size 1008x288 with 1 Axes>"
      ]
     },
     "metadata": {
      "needs_background": "light"
     },
     "output_type": "display_data"
    }
   ],
   "source": [
    "get_boxplot('flight_month', 'flight_margin', data=data_part)"
   ]
  },
  {
   "cell_type": "code",
   "execution_count": 70,
   "metadata": {},
   "outputs": [
    {
     "data": {
      "image/png": "[encoded data removed]",
      "text/plain": [
       "<Figure size 1008x288 with 1 Axes>"
      ]
     },
     "metadata": {
      "needs_background": "light"
     },
     "output_type": "display_data"
    }
   ],
   "source": [
    "get_boxplot('flight_dom', 'flight_margin', data=data_part)"
   ]
  },
  {
   "cell_type": "code",
   "execution_count": 71,
   "metadata": {},
   "outputs": [
    {
     "data": {
      "image/png": "[encoded data removed]",
      "text/plain": [
       "<Figure size 1008x288 with 1 Axes>"
      ]
     },
     "metadata": {
      "needs_background": "light"
     },
     "output_type": "display_data"
    }
   ],
   "source": [
    "get_boxplot('flight_dow', 'flight_margin', data=data_part)"
   ]
  },
  {
   "cell_type": "markdown",
   "metadata": {},
   "source": [
    "## profit_per_hour - прибыль в пересчете на 1 час полета\n",
    "\n",
    "Очень важно! Если мы пересчитаем прибыль рейсов из расчета 1 часа полета, то мы получим 56 (из 90) рейсов Анапа-Белгород, которые окажутся более прибыльными, чем наименее прибыльный рейс Анапа-Москва. Да, необходимо помнить, что средняя прибыль даже при таком \"щадящем\" пересчете для рейсов Анапа-Белгород, все также в 1.27 раза меньше на указанном направлении."
   ]
  },
  {
   "cell_type": "code",
   "execution_count": 72,
   "metadata": {},
   "outputs": [
    {
     "data": {
      "image/png": "[encoded data removed]",
      "text/plain": [
       "<Figure size 1008x288 with 1 Axes>"
      ]
     },
     "metadata": {
      "needs_background": "light"
     },
     "output_type": "display_data"
    }
   ],
   "source": [
    "get_boxplot('city_arr', 'profit_per_hour', data=data_part)"
   ]
  },
  {
   "cell_type": "code",
   "execution_count": 73,
   "metadata": {
    "scrolled": false
   },
   "outputs": [
    {
     "data": {
      "text/plain": [
       "56"
      ]
     },
     "execution_count": 73,
     "metadata": {},
     "output_type": "execute_result"
    }
   ],
   "source": [
    "# find more marginable flight to Belgorod than to Moscow (re-countable in hours)\n",
    "# least marg flight to Moscow\n",
    "least_marg_msc_h = data_part[data_part['city_arr']\n",
    "                             == 'Moscow'].profit_per_hour.min()\n",
    "# up-average marg flight to Belgorod\n",
    "most_marg_blg_h = data_part[data_part['city_arr']\n",
    "                            == 'Belgorod'].flight_margin.mean()\n",
    "\n",
    "pay_attention_blg = data_part[(data_part.flight_margin >= most_marg_blg_h)\n",
    "                              & (data_part.city_arr == 'Belgorod')]\n",
    "\n",
    "len(pay_attention_blg)"
   ]
  },
  {
   "cell_type": "code",
   "execution_count": 74,
   "metadata": {},
   "outputs": [
    {
     "data": {
      "text/plain": [
       "1.2712940067923835"
      ]
     },
     "execution_count": 74,
     "metadata": {},
     "output_type": "execute_result"
    }
   ],
   "source": [
    "# difference in averages\n",
    "\n",
    "marg_diff_h = data_part[data_part['city_arr'] == 'Moscow'].profit_per_hour.mean(\n",
    ") / data_part[data_part['city_arr'] == 'Belgorod'].profit_per_hour.mean()\n",
    "\n",
    "marg_diff_h"
   ]
  },
  {
   "cell_type": "markdown",
   "metadata": {},
   "source": [
    "## profit_per_seat - прибыль в пересчете на 1 посадочное место\n",
    "\n",
    "Прибыльность маршрутов не оказывается чувствительной к размеру самолета. Имеем всю ту же разницу в ~2 раза между рейсами на Москву, осуществляемыми на \"Боингах\", и рейсами на Белгород, которые выполняются \"Сухими\"."
   ]
  },
  {
   "cell_type": "code",
   "execution_count": 75,
   "metadata": {},
   "outputs": [
    {
     "data": {
      "image/png": "[encoded data removed]",
      "text/plain": [
       "<Figure size 1008x288 with 1 Axes>"
      ]
     },
     "metadata": {
      "needs_background": "light"
     },
     "output_type": "display_data"
    }
   ],
   "source": [
    "get_boxplot('city_arr', 'profit_per_seat', data=data_part)"
   ]
  },
  {
   "cell_type": "markdown",
   "metadata": {},
   "source": [
    "## profit_per_passenger - прибыль в пересчете на 1 пассажира\n",
    "\n",
    "Как и в предыдущем показателя - никаких новых инсайтов о влиянии имеющихся показателей в выгрузке на результирующий - прибыль с рейса.. Количество проданных билетов и прибыль с пассажира все также куда больше зависит от выбранного направления.\n",
    "\n",
    "Выдвинем гипотезу: получать сопоставимые прибыли с направления Анапа-Белгород можно будет, если при сохранении регулярности рейса изменить парк самолетов, которыми выполняются эти рейсы, увеличив число посадочных мест и тем самым увеличив маржинальность одного полета. Здесь, однако, необходимо проводить дополнительные маркетинговые исследования и изучать спрос - будет ли его достаточно, чтоб самолеты летали с загруженностью на уровне рейсов Анапа-Москва."
   ]
  },
  {
   "cell_type": "code",
   "execution_count": 76,
   "metadata": {},
   "outputs": [
    {
     "data": {
      "image/png": "[encoded data removed]",
      "text/plain": [
       "<Figure size 1008x288 with 1 Axes>"
      ]
     },
     "metadata": {
      "needs_background": "light"
     },
     "output_type": "display_data"
    }
   ],
   "source": [
    "get_boxplot('city_arr', 'profit_per_passenger', data=data_part)"
   ]
  },
  {
   "cell_type": "markdown",
   "metadata": {},
   "source": [
    "## Корреляционный анализ\n",
    "\n",
    "Для построения матрицы корреляции сначала выберем из датасета только количественные признаки, отсеяв ординальные и номинативные.\n",
    "\n",
    "По матрице корреляций очевидна мультиколлинеарность - целый ряд признаков используются в модели расчета прибыльности рейсов. Также есть такие переменные, например, как fuel_consum_per_h, flight_time_h, fuel_cost - все они связаны с вычислением расхода топлива; или, например, total_seats_sold, revenue_eco, revenue_bus, revenue_total - выручка рейса зависит от количества проданных билетов, а суммарная выручка - зависит от выручек классов эконом и бизнес."
   ]
  },
  {
   "cell_type": "code",
   "execution_count": 77,
   "metadata": {},
   "outputs": [],
   "source": [
    "# проведем корреляционный анализ всего датасета\n",
    "data_part_numeric = data_part[['fuel_consum_per_h', 'delay_dep_mins', 'delay_arr_mins', 'flight_time_h', 'fuel_cost', 'lease_pay', 'salary', 'food_cost',\n",
    "                               'seats_eco', 'total_seats_sold', 'revenue_eco', 'revenue_bus', 'revenue_total', 'flight_margin', 'profit_per_hour', 'profit_per_seat', 'profit_per_passenger']]\n",
    "correlation = data_part_numeric.corr()"
   ]
  },
  {
   "cell_type": "code",
   "execution_count": 78,
   "metadata": {
    "scrolled": false
   },
   "outputs": [
    {
     "data": {
      "image/png": "[encoded data removed]",
      "text/plain": [
       "<Figure size 1080x1080 with 2 Axes>"
      ]
     },
     "metadata": {
      "needs_background": "light"
     },
     "output_type": "display_data"
    }
   ],
   "source": [
    "plt.rcParams['figure.figsize'] = (15, 15)\n",
    "sns.heatmap(correlation, square=True,\n",
    "            annot=True, fmt=\".1f\", linewidths=0.1, cmap=\"RdBu\")\n",
    "plt.tight_layout()"
   ]
  },
  {
   "cell_type": "markdown",
   "metadata": {},
   "source": [
    "## Тестирование номинативных переменных\n",
    "\n"
   ]
  },
  {
   "cell_type": "code",
   "execution_count": 79,
   "metadata": {},
   "outputs": [],
   "source": [
    "# определим функция для т-тестирования номинативных признаков\n",
    "# тестирование проводим в отношении к результирующей переменной flight_profit\n",
    "def get_stat_dif(column, df):\n",
    "    cols = df.loc[:, column].value_counts().index[:10]\n",
    "    combinations_all = list(combinations(cols, 2))\n",
    "    for comb in combinations_all:\n",
    "        if ttest_ind(df.loc[df.loc[:, column] == comb[0], 'flight_profit'],\n",
    "                     df.loc[df.loc[:, column] == comb[1], 'flight_profit']).pvalue \\\n",
    "                <= 0.1/len(combinations_all):  # Учли поправку Бонферони\n",
    "            print('Найдены статистически значимые различия для колонки', column)\n",
    "            break"
   ]
  },
  {
   "cell_type": "code",
   "execution_count": 80,
   "metadata": {},
   "outputs": [
    {
     "data": {
      "text/plain": [
       "Index(['flight_id', 's_dep', 'flight_month', 'flight_dom', 'flight_dow',\n",
       "       's_arr', 'city_arr', 'model', 'fuel_consum_per_h', 'a_dep', 'a_arr',\n",
       "       'delay_dep_mins', 'delay_arr_mins', 'flight_time_h', 'fuel_cost',\n",
       "       'lease_pay', 'salary', 'food_cost', 'total_seats', 'seats_eco',\n",
       "       'seats_bus', 'total_seats_sold', 'revenue_eco', 'revenue_bus',\n",
       "       'revenue_total', 'flight_profit', 'flight_margin', 'profit_per_hour',\n",
       "       'profit_per_seat', 'profit_per_passenger', 'revenue_eco_p',\n",
       "       'revenue_bus_p', 'seats_sold_percent', 'costs_total'],\n",
       "      dtype='object')"
      ]
     },
     "execution_count": 80,
     "metadata": {},
     "output_type": "execute_result"
    }
   ],
   "source": [
    "data.columns"
   ]
  },
  {
   "cell_type": "code",
   "execution_count": 81,
   "metadata": {},
   "outputs": [
    {
     "name": "stdout",
     "output_type": "stream",
     "text": [
      "Найдены статистически значимые различия для колонки city_arr\n",
      "Найдены статистически значимые различия для колонки model\n"
     ]
    }
   ],
   "source": [
    "for col in ['flight_month', 'flight_dom', 'flight_dow', 'city_arr', 'model']:\n",
    "    get_stat_dif(col, data_part)"
   ]
  },
  {
   "cell_type": "markdown",
   "metadata": {},
   "source": [
    "## Оставляем в датасете только оказывающие влияние на результирующую переменную flight_profit количественные и номинативные признаки\n",
    "\n",
    "Сформируем датасет для дальнейшего моделирования, включив в них те признаки, на которые стоит обратить пристальное внимание в дальнейшей работе.\n",
    "\n",
    "В наборе данных для моделирования оставим все количественные признаки, выраженные в ходе построения выгрузки, за исключением признаков, которые использовались для их расчетов. Из номинативных признаков оставим только признаки, показавшие свою значимость в результате т-тестирования.\n",
    "\n",
    "В данном случае в качестве целевого признака мы используем flight_profit - в то же время, таким признаком могут быть, например, flight_margin или profit_per_passenger в зависимости от задач исследования."
   ]
  },
  {
   "cell_type": "code",
   "execution_count": 82,
   "metadata": {},
   "outputs": [
    {
     "data": {
      "text/html": [
       "<div>\n",
       "<style scoped>\n",
       "    .dataframe tbody tr th:only-of-type {\n",
       "        vertical-align: middle;\n",
       "    }\n",
       "\n",
       "    .dataframe tbody tr th {\n",
       "        vertical-align: top;\n",
       "    }\n",
       "\n",
       "    .dataframe thead th {\n",
       "        text-align: right;\n",
       "    }\n",
       "</style>\n",
       "<table border=\"1\" class=\"dataframe\">\n",
       "  <thead>\n",
       "    <tr style=\"text-align: right;\">\n",
       "      <th></th>\n",
       "      <th>flight_id</th>\n",
       "      <th>flight_profit</th>\n",
       "      <th>city_arr</th>\n",
       "      <th>model</th>\n",
       "      <th>fuel_cost</th>\n",
       "      <th>lease_pay</th>\n",
       "      <th>salary</th>\n",
       "      <th>food_cost</th>\n",
       "      <th>seats_eco</th>\n",
       "      <th>seats_bus</th>\n",
       "      <th>revenue_eco</th>\n",
       "      <th>revenue_bus</th>\n",
       "    </tr>\n",
       "  </thead>\n",
       "  <tbody>\n",
       "    <tr>\n",
       "      <th>0</th>\n",
       "      <td>136698</td>\n",
       "      <td>5.070308e+05</td>\n",
       "      <td>Belgorod</td>\n",
       "      <td>Sukhoi Superjet-100</td>\n",
       "      <td>52756.666667</td>\n",
       "      <td>96500</td>\n",
       "      <td>20062.5</td>\n",
       "      <td>70050</td>\n",
       "      <td>85</td>\n",
       "      <td>12</td>\n",
       "      <td>519600.0</td>\n",
       "      <td>226800.0</td>\n",
       "    </tr>\n",
       "    <tr>\n",
       "      <th>1</th>\n",
       "      <td>136187</td>\n",
       "      <td>1.424125e+06</td>\n",
       "      <td>Moscow</td>\n",
       "      <td>Boeing 737-300</td>\n",
       "      <td>152000.000000</td>\n",
       "      <td>182500</td>\n",
       "      <td>26750.0</td>\n",
       "      <td>88425</td>\n",
       "      <td>118</td>\n",
       "      <td>12</td>\n",
       "      <td>1434600.0</td>\n",
       "      <td>439200.0</td>\n",
       "    </tr>\n",
       "    <tr>\n",
       "      <th>2</th>\n",
       "      <td>136774</td>\n",
       "      <td>5.001792e+05</td>\n",
       "      <td>Belgorod</td>\n",
       "      <td>Sukhoi Superjet-100</td>\n",
       "      <td>53833.333333</td>\n",
       "      <td>96500</td>\n",
       "      <td>20062.5</td>\n",
       "      <td>69525</td>\n",
       "      <td>85</td>\n",
       "      <td>12</td>\n",
       "      <td>513300.0</td>\n",
       "      <td>226800.0</td>\n",
       "    </tr>\n",
       "    <tr>\n",
       "      <th>3</th>\n",
       "      <td>136474</td>\n",
       "      <td>1.438840e+06</td>\n",
       "      <td>Moscow</td>\n",
       "      <td>Boeing 737-300</td>\n",
       "      <td>148960.000000</td>\n",
       "      <td>182500</td>\n",
       "      <td>26750.0</td>\n",
       "      <td>88950</td>\n",
       "      <td>118</td>\n",
       "      <td>12</td>\n",
       "      <td>1446800.0</td>\n",
       "      <td>439200.0</td>\n",
       "    </tr>\n",
       "    <tr>\n",
       "      <th>4</th>\n",
       "      <td>136873</td>\n",
       "      <td>5.164275e+05</td>\n",
       "      <td>Belgorod</td>\n",
       "      <td>Sukhoi Superjet-100</td>\n",
       "      <td>54910.000000</td>\n",
       "      <td>96500</td>\n",
       "      <td>20062.5</td>\n",
       "      <td>71100</td>\n",
       "      <td>85</td>\n",
       "      <td>12</td>\n",
       "      <td>532200.0</td>\n",
       "      <td>226800.0</td>\n",
       "    </tr>\n",
       "  </tbody>\n",
       "</table>\n",
       "</div>"
      ],
      "text/plain": [
       "   flight_id  flight_profit  city_arr                model      fuel_cost  \\\n",
       "0     136698   5.070308e+05  Belgorod  Sukhoi Superjet-100   52756.666667   \n",
       "1     136187   1.424125e+06    Moscow       Boeing 737-300  152000.000000   \n",
       "2     136774   5.001792e+05  Belgorod  Sukhoi Superjet-100   53833.333333   \n",
       "3     136474   1.438840e+06    Moscow       Boeing 737-300  148960.000000   \n",
       "4     136873   5.164275e+05  Belgorod  Sukhoi Superjet-100   54910.000000   \n",
       "\n",
       "   lease_pay   salary  food_cost  seats_eco  seats_bus  revenue_eco  \\\n",
       "0      96500  20062.5      70050         85         12     519600.0   \n",
       "1     182500  26750.0      88425        118         12    1434600.0   \n",
       "2      96500  20062.5      69525         85         12     513300.0   \n",
       "3     182500  26750.0      88950        118         12    1446800.0   \n",
       "4      96500  20062.5      71100         85         12     532200.0   \n",
       "\n",
       "   revenue_bus  \n",
       "0     226800.0  \n",
       "1     439200.0  \n",
       "2     226800.0  \n",
       "3     439200.0  \n",
       "4     226800.0  "
      ]
     },
     "execution_count": 82,
     "metadata": {},
     "output_type": "execute_result"
    }
   ],
   "source": [
    "data_for_model = data.loc[:, ['flight_id', 'flight_profit', 'city_arr', 'model', 'fuel_cost',\n",
    "                              'lease_pay', 'salary', 'food_cost', 'seats_eco', 'seats_bus', 'revenue_eco', 'revenue_bus']]\n",
    "data_for_model.head()"
   ]
  },
  {
   "cell_type": "markdown",
   "metadata": {},
   "source": [
    "# Выводы\n",
    "\n",
    "В наборе данных - информация о 193 рейсах, совершенных из аэропорта Анапы за зимний сезон (с 1 декабря 2016 года по 28 февраля 2017 года).\n",
    "\n",
    "Рейсы регулярные и равномерно распределены по месяцам, дням месяца и дням недели (однако, во вторник совершено на 13 рейсов больше, чем в остальные дни - рейсы из Анапы в Москву и Белгород осуществляются ежедневно, а еженедельные рейсы - Анапа-Новокузнецк). Рейсы из Анапы за анализируемый период осуществляются на двух моделях самолетов - Boeing 737-300 и Sukhoi Superjet-100 - \"Боинг\" используется на рейсах до Москвы и Новокузнецка, \"Сухой\" - на рейсах до Белгорода.\n",
    "\n",
    "Расписание вылетов соблюдается. Среднее время задержки рейса при вылете - 3.5 минуты. Медиана - 3 минуты. 11 самолетов вылетели из Анапы ровно в назначенное время. Всего в 4 рейсах из 193 задержка вылета составила 10 минут и более. Максимальное опоздание - 42 минуты. Расписание соблюдалось более строго в декабре, если говорить о месяцах; в субботу - если говорить о днях недели. Задержки рейсов не оказывают влияния на прибыльность рейсов.\n",
    "\n",
    "Минимальное время полета - 0.82 часа (Анапа-Белгород), максимальное - 5.2 часа (Анапа-Новокузнецк). Продолжительности рейсов по трем направлениям в целом распределены нормально и варьируются в следующих диапазонах: Анапа-Белгород от 0.82 до 0.85 часа, Анапа-Москва от 1.63 до 1.72 часа, Анапа-Новокузнецк от 4.98 до 5.2 часа.\n",
    "\n",
    "В предложенной модели расходы на совершение рейса представлены следующими признаками:\n",
    "* расход топлива - зависит от двух переменных - расхода топлива конкретной модели самолета в соответствии с документамией (fuel_consum_per_h) и продолжительностью полета;\n",
    "* лизинговые платежи - перерасчет сумм по лизинговым договорам российских авиакомпаний на приобретение аналогичных моделей самолетов (из открытых источников) в соответствии с относительным времени эксплуатации самолетов в течение суток;\n",
    "* зарплата экипажа - исходя из маршрутов (ближнемагистральные и среднемагистральные рейсы), продолжительности рейса и время отдыха между рейсами (пересчет на продолжительность рабочего дня) с учетом 20 рабочих жней в месяце и с использованием данных о средней заработной плате работников авиационной отрасли;\n",
    "* стоимость питания для пассажиров - допущения, используемые в расчетной модели: в среднем, стоимость одного набора питания на пассажира 7-8 долларов (525 рублей) для эконома, для бизнеса и первого класса 30-50 долларов (2250 рублей).\n",
    "\n",
    "На рейсах Анапа-Новокузнецк нет ни одного проданного билета - ни один пассажир ни разу не воспользовался этим рейсом (технический рейс для удержания \"слота\"). Использование разных самолетов на рейсах в Москву и Белгород создает неравные условия для конкуренции в размере выручки. Полеты в Москву оказываются более эффективными -  они приносят значительно больше денег. Так, например, самый \"горячий\" рейс до Белгорода принес компании 765,3 тыс. рублей, при этом самый \"низкий\" по выручке рейс до Москвы - 1372,4 тыс. рублей. Суммарная выручка со всех рейсов в Москву оказалась в 2.31 раза больше всей выручки рейсов Анапа-Белгород.\n",
    "\n",
    "В подготовленной модели прибыль рейса определяется как разность выручки рейса и суммы расходов: flight_profit = flight_revenue - (fuel_cost + lease_pay + salary + food_cost). Рейсы до Москвы оказываются более прибыльными вне зависимости от месяца года, дня месяца и дня недели, чем рейсы до Белгорода. При этом наиболее слабый рейс по прибыли до Москвы в 1.8 раза прибыльнее самого прибылльного рейса до Белгорода. Самый прибыльный рейс в выборке принес 1438840.0 рублей. Наименее прибыльный - 306665.8 рублей.\n",
    "\n",
    "Разрыв в рентабельности оказывается уже не таким существенным. Так, самый высокорентабельный рейс (Анапа-Москва) показывает рентабельность 76,3% в рамках предложенной модели, а самый низкоэффективный рейс - 57.8%. И хотя самый маржинальный рейс до Белгорода уступает в рентабельности наименее \"слабому\" рейсу до Москвы, разница несущественна - 68.4% и 68.7% рентабельности соответственно.\n",
    "\n",
    "Если мы пересчитаем прибыль рейсов из расчета 1 часа полета, то мы получим 56 (из 90) рейсов Анапа-Белгород, которые окажутся более прибыльными, чем наименее прибыльный рейс Анапа-Москва. Необходимо помнить, что средняя прибыль даже при таком \"щадящем\" пересчете для рейсов Анапа-Белгород все еще в 1.27 раза меньше.\n",
    "\n",
    "Гипотеза: получать сопоставимые прибыли с направления Анапа-Белгород возможно при сохранении регулярности рейса и замене парка самолетов, которыми выполняются эти рейсы. Увеличив число посадочных мест - увеличим маржинальность одного полета. Здесь, однако, необходимо проводить дополнительные маркетинговые исследования и изучать спрос - будет ли его достаточно, чтоб самолеты летали с загруженностью на уровне рейсов Анапа-Москва.\n",
    "\n",
    "Т-тестирование Стьюдента для номинативных признаков показало значимость двух из них - маршрут и модель самолета."
   ]
  },
  {
   "cell_type": "markdown",
   "metadata": {},
   "source": [
    "# Дополнительное задание *\n",
    "\n",
    "Мы успешно представили данные и возможные решения центральному руководству, но решение проблемы было отложено на следующий квартал, а наш филиал хочет оптимизировать полеты уже этой зимой.\n",
    "\n",
    "Мой босс попросил самостоятельно принять решение о том, какие рейсы зимнего периода мы исключаем.\n",
    "\n",
    "## Задачи:\n",
    "1. Указать номера рейсов, которые предлагается убрать.\n",
    "\n",
    "Не имея информации о стоимости слота Анапа-Новокузнецк, мы не можем принимать решение об отказа от этих рейсов.  \n",
    "Анализировать будем рейсы Анапа-Москва и Анапа-Белгород.\n",
    "\n",
    "Для принятия решения об отказе от тех или иных рейсов целесообразно построить прогностическую модель и, учитывая ее оценки, а также мнение экспертов, убирать из расписания рейсы в соответствии с заданным критерием.\n",
    "\n",
    "Номера рейсов для исключения - 136642, 136807. Это рейсы Анапа-Белгород - 30 января 2017 года (понедельник) и 23 февраля 2017 года (четверг).\n",
    "\n",
    "2. Указать предполагаемую прибыльность этих рейсов и среднюю прибыльность всех рейсов.\n",
    "\n",
    "Прибыльность рейсов, подлежащих закрытию: 375509.2, 371625.0  \n",
    "Средняя прибыльность всех рейсов в пересчете на час полета: 645053.4\n",
    "    \n",
    "3. Описать, как проводилась аналитика, какие данные были использованы для оценки доходности рейса и расходов на них.\n",
    "\n",
    "Для оценки необходимости закрытия рейсов использовался сгенерированный показатель profit_per_hour - прибыль рейса в пересчете на час полета. Показатель выражается как отношение flight_profit (прибыль рейса) к продолжительности рейса (в часах). Прибыль, в свою очередь, представлена в финансовой модели как разность выручки с рейса (revenue_total - сумма денежных средств, полученная от продажи билетов) и расходов: стоимость топлива, лизинговый платеж, заработная плата экипажа, стоимость питания для пассажиров.\n",
    "\n",
    "Для выбора рейсов были оценены межквартильные интервалы в распределении profit_per_hour и указаны рейсы, прибыль которых оказалась ниже границы отсечения (quantile0.25 - 1.5*IQR)."
   ]
  },
  {
   "cell_type": "code",
   "execution_count": 83,
   "metadata": {},
   "outputs": [],
   "source": [
    "# оценим межквартильный размах и выберем из датасета рейсы,\n",
    "# для которых profit_per_hour < нижней границы межквартильного интервала\n",
    "\n",
    "flights_msc = data_part.loc[data_part['city_arr'] == 'Moscow']\n",
    "flights_blg = data_part.loc[data_part['city_arr'] == 'Belgorod']\n",
    "\n",
    "IQR = flights_msc.profit_per_hour.quantile(\n",
    "    0.75) - flights_msc.profit_per_hour.quantile(0.25)\n",
    "perc25 = flights_msc.profit_per_hour.quantile(0.25)\n",
    "\n",
    "flights_to_remove_msc = flights_msc.loc[flights_msc['profit_per_hour'] < (\n",
    "    perc25 - 1.5*IQR)]\n",
    "\n",
    "IQR = flights_blg.profit_per_hour.quantile(\n",
    "    0.75) - flights_blg.profit_per_hour.quantile(0.25)\n",
    "perc25 = flights_blg.profit_per_hour.quantile(0.25)\n",
    "\n",
    "flights_to_remove_blg = flights_blg.loc[flights_blg['profit_per_hour'] < (\n",
    "    perc25 - 1.5*IQR)]"
   ]
  },
  {
   "cell_type": "code",
   "execution_count": 84,
   "metadata": {},
   "outputs": [
    {
     "data": {
      "text/html": [
       "<div>\n",
       "<style scoped>\n",
       "    .dataframe tbody tr th:only-of-type {\n",
       "        vertical-align: middle;\n",
       "    }\n",
       "\n",
       "    .dataframe tbody tr th {\n",
       "        vertical-align: top;\n",
       "    }\n",
       "\n",
       "    .dataframe thead th {\n",
       "        text-align: right;\n",
       "    }\n",
       "</style>\n",
       "<table border=\"1\" class=\"dataframe\">\n",
       "  <thead>\n",
       "    <tr style=\"text-align: right;\">\n",
       "      <th></th>\n",
       "      <th>flight_id</th>\n",
       "      <th>s_dep</th>\n",
       "      <th>flight_month</th>\n",
       "      <th>flight_dom</th>\n",
       "      <th>flight_dow</th>\n",
       "      <th>s_arr</th>\n",
       "      <th>city_arr</th>\n",
       "      <th>model</th>\n",
       "      <th>fuel_consum_per_h</th>\n",
       "      <th>a_dep</th>\n",
       "      <th>...</th>\n",
       "      <th>revenue_total</th>\n",
       "      <th>flight_profit</th>\n",
       "      <th>flight_margin</th>\n",
       "      <th>profit_per_hour</th>\n",
       "      <th>profit_per_seat</th>\n",
       "      <th>profit_per_passenger</th>\n",
       "      <th>revenue_eco_p</th>\n",
       "      <th>revenue_bus_p</th>\n",
       "      <th>seats_sold_percent</th>\n",
       "      <th>costs_total</th>\n",
       "    </tr>\n",
       "  </thead>\n",
       "  <tbody>\n",
       "  </tbody>\n",
       "</table>\n",
       "<p>0 rows × 34 columns</p>\n",
       "</div>"
      ],
      "text/plain": [
       "Empty DataFrame\n",
       "Columns: [flight_id, s_dep, flight_month, flight_dom, flight_dow, s_arr, city_arr, model, fuel_consum_per_h, a_dep, a_arr, delay_dep_mins, delay_arr_mins, flight_time_h, fuel_cost, lease_pay, salary, food_cost, total_seats, seats_eco, seats_bus, total_seats_sold, revenue_eco, revenue_bus, revenue_total, flight_profit, flight_margin, profit_per_hour, profit_per_seat, profit_per_passenger, revenue_eco_p, revenue_bus_p, seats_sold_percent, costs_total]\n",
       "Index: []\n",
       "\n",
       "[0 rows x 34 columns]"
      ]
     },
     "execution_count": 84,
     "metadata": {},
     "output_type": "execute_result"
    }
   ],
   "source": [
    "flights_to_remove_msc"
   ]
  },
  {
   "cell_type": "code",
   "execution_count": 85,
   "metadata": {
    "scrolled": false
   },
   "outputs": [
    {
     "data": {
      "text/html": [
       "<div>\n",
       "<style scoped>\n",
       "    .dataframe tbody tr th:only-of-type {\n",
       "        vertical-align: middle;\n",
       "    }\n",
       "\n",
       "    .dataframe tbody tr th {\n",
       "        vertical-align: top;\n",
       "    }\n",
       "\n",
       "    .dataframe thead th {\n",
       "        text-align: right;\n",
       "    }\n",
       "</style>\n",
       "<table border=\"1\" class=\"dataframe\">\n",
       "  <thead>\n",
       "    <tr style=\"text-align: right;\">\n",
       "      <th></th>\n",
       "      <th>flight_id</th>\n",
       "      <th>s_dep</th>\n",
       "      <th>flight_month</th>\n",
       "      <th>flight_dom</th>\n",
       "      <th>flight_dow</th>\n",
       "      <th>s_arr</th>\n",
       "      <th>city_arr</th>\n",
       "      <th>model</th>\n",
       "      <th>fuel_consum_per_h</th>\n",
       "      <th>a_dep</th>\n",
       "      <th>...</th>\n",
       "      <th>revenue_total</th>\n",
       "      <th>flight_profit</th>\n",
       "      <th>flight_margin</th>\n",
       "      <th>profit_per_hour</th>\n",
       "      <th>profit_per_seat</th>\n",
       "      <th>profit_per_passenger</th>\n",
       "      <th>revenue_eco_p</th>\n",
       "      <th>revenue_bus_p</th>\n",
       "      <th>seats_sold_percent</th>\n",
       "      <th>costs_total</th>\n",
       "    </tr>\n",
       "  </thead>\n",
       "  <tbody>\n",
       "    <tr>\n",
       "      <th>128</th>\n",
       "      <td>136642</td>\n",
       "      <td>2017-01-30T09:25:00Z</td>\n",
       "      <td>1.0</td>\n",
       "      <td>30.0</td>\n",
       "      <td>1.0</td>\n",
       "      <td>2017-01-30T10:15:00Z</td>\n",
       "      <td>Belgorod</td>\n",
       "      <td>Sukhoi Superjet-100</td>\n",
       "      <td>1700</td>\n",
       "      <td>2017-01-30T09:28:00Z</td>\n",
       "      <td>...</td>\n",
       "      <td>531000.0</td>\n",
       "      <td>306665.833333</td>\n",
       "      <td>0.577525</td>\n",
       "      <td>375509.183673</td>\n",
       "      <td>3161.503436</td>\n",
       "      <td>4791.653646</td>\n",
       "      <td>0.644068</td>\n",
       "      <td>0.355932</td>\n",
       "      <td>0.659794</td>\n",
       "      <td>224334.166667</td>\n",
       "    </tr>\n",
       "    <tr>\n",
       "      <th>180</th>\n",
       "      <td>136807</td>\n",
       "      <td>2017-02-23T09:25:00Z</td>\n",
       "      <td>2.0</td>\n",
       "      <td>23.0</td>\n",
       "      <td>4.0</td>\n",
       "      <td>2017-02-23T10:15:00Z</td>\n",
       "      <td>Belgorod</td>\n",
       "      <td>Sukhoi Superjet-100</td>\n",
       "      <td>1700</td>\n",
       "      <td>2017-02-23T09:28:00Z</td>\n",
       "      <td>...</td>\n",
       "      <td>531000.0</td>\n",
       "      <td>309687.500000</td>\n",
       "      <td>0.583216</td>\n",
       "      <td>371625.000000</td>\n",
       "      <td>3192.654639</td>\n",
       "      <td>4554.227941</td>\n",
       "      <td>0.715254</td>\n",
       "      <td>0.284746</td>\n",
       "      <td>0.701031</td>\n",
       "      <td>221312.500000</td>\n",
       "    </tr>\n",
       "  </tbody>\n",
       "</table>\n",
       "<p>2 rows × 34 columns</p>\n",
       "</div>"
      ],
      "text/plain": [
       "     flight_id                 s_dep  flight_month  flight_dom  flight_dow  \\\n",
       "128     136642  2017-01-30T09:25:00Z           1.0        30.0         1.0   \n",
       "180     136807  2017-02-23T09:25:00Z           2.0        23.0         4.0   \n",
       "\n",
       "                    s_arr  city_arr                model  fuel_consum_per_h  \\\n",
       "128  2017-01-30T10:15:00Z  Belgorod  Sukhoi Superjet-100               1700   \n",
       "180  2017-02-23T10:15:00Z  Belgorod  Sukhoi Superjet-100               1700   \n",
       "\n",
       "                    a_dep  ... revenue_total  flight_profit  flight_margin  \\\n",
       "128  2017-01-30T09:28:00Z  ...      531000.0  306665.833333       0.577525   \n",
       "180  2017-02-23T09:28:00Z  ...      531000.0  309687.500000       0.583216   \n",
       "\n",
       "     profit_per_hour  profit_per_seat  profit_per_passenger  revenue_eco_p  \\\n",
       "128    375509.183673      3161.503436           4791.653646       0.644068   \n",
       "180    371625.000000      3192.654639           4554.227941       0.715254   \n",
       "\n",
       "     revenue_bus_p  seats_sold_percent    costs_total  \n",
       "128       0.355932            0.659794  224334.166667  \n",
       "180       0.284746            0.701031  221312.500000  \n",
       "\n",
       "[2 rows x 34 columns]"
      ]
     },
     "execution_count": 85,
     "metadata": {},
     "output_type": "execute_result"
    }
   ],
   "source": [
    "flights_to_remove_blg"
   ]
  },
  {
   "cell_type": "code",
   "execution_count": 86,
   "metadata": {},
   "outputs": [
    {
     "name": "stdout",
     "output_type": "stream",
     "text": [
      "Прибыльность рейсов, подлежащих закрытию:\n"
     ]
    },
    {
     "data": {
      "text/plain": [
       "128    375509.183673\n",
       "180    371625.000000\n",
       "Name: profit_per_hour, dtype: float64"
      ]
     },
     "metadata": {},
     "output_type": "display_data"
    },
    {
     "name": "stdout",
     "output_type": "stream",
     "text": [
      "Средняя прибыльность всех рейсов в пересчете на час полета\n"
     ]
    },
    {
     "data": {
      "text/plain": [
       "645053.3507449763"
      ]
     },
     "metadata": {},
     "output_type": "display_data"
    }
   ],
   "source": [
    "print('Прибыльность рейсов, подлежащих закрытию:')\n",
    "display(flights_to_remove_blg.profit_per_hour)\n",
    "print('Средняя прибыльность всех рейсов в пересчете на час полета')\n",
    "display(data_part.profit_per_hour.mean())"
   ]
  },
  {
   "cell_type": "markdown",
   "metadata": {},
   "source": [
    "# Итоговый доклад\n",
    "\n",
    "Презентация - https://docs.google.com/presentation/d/1jC4JbgObW0D_q-YQyVd3kQM1zawkKjLD6RyEnrHtLpo/edit?usp=sharing"
   ]
  },
  {
   "cell_type": "code",
   "execution_count": null,
   "metadata": {},
   "outputs": [],
   "source": []
  }
 ],
 "metadata": {
  "kernelspec": {
   "display_name": "Python 3",
   "language": "python",
   "name": "python3"
  },
  "language_info": {
   "codemirror_mode": {
    "name": "ipython",
    "version": 3
   },
   "file_extension": ".py",
   "mimetype": "text/x-python",
   "name": "python",
   "nbconvert_exporter": "python",
   "pygments_lexer": "ipython3",
   "version": "3.8.5"
  }
 },
 "nbformat": 4,
 "nbformat_minor": 4
}
