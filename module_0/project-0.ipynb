{
 "cells": [
  {
   "cell_type": "code",
   "execution_count": 7,
   "metadata": {},
   "outputs": [
    {
     "name": "stdout",
     "output_type": "stream",
     "text": [
      "Ваш алгоритм угадывает число в среднем за 5 попыток\n"
     ]
    },
    {
     "data": {
      "text/plain": [
       "5"
      ]
     },
     "execution_count": 7,
     "metadata": {},
     "output_type": "execute_result"
    }
   ],
   "source": [
    "import numpy as np\n",
    "\n",
    "\n",
    "def score_game(game_core):\n",
    "    '''Запускаем игру 1000 раз, чтобы узнать, как быстро игра угадывает число'''\n",
    "    count_ls = []\n",
    "    np.random.seed(1) # фиксируем RANDOM SEED, чтобы ваш эксперимент был воспроизводим!\n",
    "    random_array = np.random.randint(1,101, size=(1000))\n",
    "    for number in random_array:\n",
    "        count_ls.append(game_core(number))\n",
    "    score = int(np.mean(count_ls))\n",
    "    print(f\"Ваш алгоритм угадывает число в среднем за {score} попыток\")\n",
    "    return(score)\n",
    "\n",
    "\n",
    "# Определим функцию, которая найдет загаданное число бинарным поиском\n",
    "def game_core_v3(number):\n",
    "    \n",
    "    # Определяем границы диапазона поиска,\n",
    "    first = 0\n",
    "    last = 100\n",
    "    \n",
    "    # Переменная-счетчик для количества попыток \"угадывания\" числа number\n",
    "    count = 1\n",
    "    \n",
    "    # Предлагаем в качестве ответа - середину текущего диапазона,\n",
    "    predict = (first+last) // 2\n",
    "    \n",
    "    while first != last:\n",
    "        # Устанавливаем новые границы диапазона поиска\n",
    "        # В зависимости от того, больше или меньше предложенное число искомого\n",
    "        if number > predict:\n",
    "            first = predict + 1\n",
    "            predict = (first+last) // 2\n",
    "            count += 1\n",
    "        elif number < predict:\n",
    "            last = predict - 1\n",
    "            predict = (first+last) // 2\n",
    "            count += 1\n",
    "        else:\n",
    "            break\n",
    "    \n",
    "    return(count)\n",
    "\n",
    "\n",
    "# Проверяем\n",
    "score_game(game_core_v3)"
   ]
  },
  {
   "cell_type": "code",
   "execution_count": null,
   "metadata": {},
   "outputs": [],
   "source": []
  }
 ],
 "metadata": {
  "kernelspec": {
   "display_name": "Python 3",
   "language": "python",
   "name": "python3"
  },
  "language_info": {
   "codemirror_mode": {
    "name": "ipython",
    "version": 3
   },
   "file_extension": ".py",
   "mimetype": "text/x-python",
   "name": "python",
   "nbconvert_exporter": "python",
   "pygments_lexer": "ipython3",
   "version": "3.8.5"
  }
 },
 "nbformat": 4,
 "nbformat_minor": 4
}
